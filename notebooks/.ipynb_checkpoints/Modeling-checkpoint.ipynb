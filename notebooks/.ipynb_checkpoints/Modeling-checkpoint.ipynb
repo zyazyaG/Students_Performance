{
 "cells": [
  {
   "cell_type": "markdown",
   "id": "2a2dc8f2",
   "metadata": {},
   "source": [
    "# Modeling\n",
    "\n",
    "In this notebook I will build **models to predict the student course outcome.** In previous notebook **EDA** I've performed the **exploratory analysis and built some visualizations**. At the end the new dataset was stored as \"final_data.csv\" file in data folder."
   ]
  },
  {
   "cell_type": "markdown",
   "id": "520f0e30",
   "metadata": {},
   "source": [
    "## Goal of the Modeling\n",
    "The main goal of the project is to be able to predict the outcome of the students in the course. I will build different algorithms of **multiclass classification models and evaluate their performance**. At the end of the notebook I will choose a model that has the **most appropriate parameters and performed the best.**"
   ]
  },
  {
   "cell_type": "markdown",
   "id": "28385b8a",
   "metadata": {},
   "source": [
    "## Import Packages\n",
    "\n",
    "Import standard libraries and necessary packages for transformation, modeling and evaluation. In addition, import **WHAT!!!!!!!!!!!!!!** functions and classess."
   ]
  },
  {
   "cell_type": "code",
   "execution_count": 1,
   "id": "6129d9d4",
   "metadata": {},
   "outputs": [],
   "source": [
    "import pandas as pd\n",
    "import numpy as np\n",
    "\n",
    "import seaborn as sns\n",
    "import matplotlib.pyplot as plt\n",
    "%matplotlib inline\n",
    "\n",
    "from imblearn.over_sampling import SMOTE\n",
    "from imblearn.pipeline import make_pipeline\n",
    "\n",
    "#from sklearn.decomposition import PCA\n",
    "#from sklearn.discriminant_analysis import LinearDiscriminantAnalysis as LDA\n",
    "\n",
    "from sklearn.preprocessing import OneHotEncoder, StandardScaler\n",
    "from sklearn.compose import ColumnTransformer\n",
    "\n",
    "from sklearn.model_selection import train_test_split, cross_val_score, KFold, GridSearchCV\n",
    "\n",
    "from sklearn.linear_model import LogisticRegression as LR\n",
    "from sklearn.neighbors import KNeighborsClassifier as KNN\n",
    "from sklearn.tree import DecisionTreeClassifier as DT\n",
    "from sklearn.ensemble import RandomForestClassifier as RFC, GradientBoostingClassifier as GBC\n",
    "from sklearn.cluster import KMeans\n",
    "from xgboost import XGBClassifier as XGB\n",
    "\n",
    "\n",
    "from sklearn.metrics import plot_confusion_matrix\n",
    "#from sklearn.metrics import mean_squared_error\n",
    "from sklearn.metrics import precision_score, recall_score, accuracy_score, f1_score, roc_curve, auc\n",
    "\n",
    "\n",
    "# Import additional files with statistical functions\n",
    "import sys\n",
    "import os\n",
    "\n",
    "module_path = os.path.abspath(os.path.join('../src'))\n",
    "if module_path not in sys.path:\n",
    "    sys.path.append(module_path)\n",
    "    \n",
    "import explore_data as ed \n",
    "import model_functions as mf\n",
    "import model_history as mh"
   ]
  },
  {
   "cell_type": "markdown",
   "id": "3e4d02e4",
   "metadata": {},
   "source": [
    "* Set notebook's visual parameters"
   ]
  },
  {
   "cell_type": "code",
   "execution_count": 2,
   "id": "4d7e14ac",
   "metadata": {},
   "outputs": [],
   "source": [
    "pd.options.display.max_rows = 500\n",
    "pd.options.display.max_columns = 100\n",
    "\n",
    "plt.style.use('seaborn-dark')\n",
    "sns.set_theme('talk')"
   ]
  },
  {
   "cell_type": "markdown",
   "id": "60231e58",
   "metadata": {},
   "source": [
    "## Upload Dataset"
   ]
  },
  {
   "cell_type": "markdown",
   "id": "48f8d62a",
   "metadata": {},
   "source": [
    "Upload final_data.csv from data folder, keep id_student feature as object type."
   ]
  },
  {
   "cell_type": "code",
   "execution_count": 3,
   "id": "8e7e4962",
   "metadata": {},
   "outputs": [],
   "source": [
    "df = pd.read_csv('../data/final_data.csv', dtype={\"id_student\": str})"
   ]
  },
  {
   "cell_type": "code",
   "execution_count": 4,
   "id": "9e16ed5d",
   "metadata": {},
   "outputs": [
    {
     "data": {
      "text/plain": [
       "Index(['module_presentation_length', 'code_module', 'code_presentation',\n",
       "       'id_student', 'date_registration', 'sum_click', 'gender', 'region',\n",
       "       'highest_education', 'imd_band', 'age_band', 'num_of_prev_attempts',\n",
       "       'studied_credits', 'disability', 'final_result', 'mean_score'],\n",
       "      dtype='object')"
      ]
     },
     "execution_count": 4,
     "metadata": {},
     "output_type": "execute_result"
    }
   ],
   "source": [
    "df.columns"
   ]
  },
  {
   "cell_type": "code",
   "execution_count": 5,
   "id": "51d20f33",
   "metadata": {},
   "outputs": [
    {
     "name": "stdout",
     "output_type": "stream",
     "text": [
      "Lenght of Dataset: 20224\n",
      "                            missing_values_% Data_type\n",
      "module_presentation_length               0.0     int64\n",
      "code_module                              0.0    object\n",
      "code_presentation                        0.0    object\n",
      "id_student                               0.0    object\n",
      "date_registration                        0.0     int64\n",
      "sum_click                                0.0     int64\n",
      "gender                                   0.0    object\n",
      "region                                   0.0    object\n",
      "highest_education                        0.0    object\n",
      "imd_band                                 0.0    object\n",
      "age_band                                 0.0    object\n",
      "num_of_prev_attempts                     0.0     int64\n",
      "studied_credits                          0.0     int64\n",
      "disability                               0.0    object\n",
      "final_result                             0.0    object\n",
      "mean_score                               0.0   float64\n"
     ]
    }
   ],
   "source": [
    "ed.show_info(df)"
   ]
  },
  {
   "cell_type": "markdown",
   "id": "01c53b61",
   "metadata": {},
   "source": [
    "* I will drop columns that are not relevant to modeling, such that id_student and code_presentation"
   ]
  },
  {
   "cell_type": "code",
   "execution_count": 6,
   "id": "ead74179",
   "metadata": {},
   "outputs": [],
   "source": [
    "df.drop(columns = ['id_student', 'code_presentation'], inplace = True)"
   ]
  },
  {
   "cell_type": "code",
   "execution_count": 7,
   "id": "032b3e73",
   "metadata": {},
   "outputs": [
    {
     "data": {
      "text/html": [
       "<div>\n",
       "<style scoped>\n",
       "    .dataframe tbody tr th:only-of-type {\n",
       "        vertical-align: middle;\n",
       "    }\n",
       "\n",
       "    .dataframe tbody tr th {\n",
       "        vertical-align: top;\n",
       "    }\n",
       "\n",
       "    .dataframe thead th {\n",
       "        text-align: right;\n",
       "    }\n",
       "</style>\n",
       "<table border=\"1\" class=\"dataframe\">\n",
       "  <thead>\n",
       "    <tr style=\"text-align: right;\">\n",
       "      <th></th>\n",
       "      <th>course_length</th>\n",
       "      <th>code_module</th>\n",
       "      <th>date_registration</th>\n",
       "      <th>sum_click</th>\n",
       "      <th>gender</th>\n",
       "      <th>region</th>\n",
       "      <th>highest_education</th>\n",
       "      <th>imd_band</th>\n",
       "      <th>age_band</th>\n",
       "      <th>attempts</th>\n",
       "      <th>studied_credits</th>\n",
       "      <th>disability</th>\n",
       "      <th>final_result</th>\n",
       "      <th>mean_score</th>\n",
       "    </tr>\n",
       "  </thead>\n",
       "  <tbody>\n",
       "    <tr>\n",
       "      <th>0</th>\n",
       "      <td>262</td>\n",
       "      <td>DDD</td>\n",
       "      <td>88</td>\n",
       "      <td>458</td>\n",
       "      <td>M</td>\n",
       "      <td>North Western Region</td>\n",
       "      <td>Lower Than A Level</td>\n",
       "      <td>0-10%</td>\n",
       "      <td>0-35</td>\n",
       "      <td>0</td>\n",
       "      <td>60</td>\n",
       "      <td>N</td>\n",
       "      <td>Pass</td>\n",
       "      <td>86.50</td>\n",
       "    </tr>\n",
       "    <tr>\n",
       "      <th>1</th>\n",
       "      <td>262</td>\n",
       "      <td>DDD</td>\n",
       "      <td>136</td>\n",
       "      <td>1107</td>\n",
       "      <td>M</td>\n",
       "      <td>Scotland</td>\n",
       "      <td>HE Qualification</td>\n",
       "      <td>80-90%</td>\n",
       "      <td>55&lt;=</td>\n",
       "      <td>0</td>\n",
       "      <td>60</td>\n",
       "      <td>N</td>\n",
       "      <td>Pass</td>\n",
       "      <td>80.00</td>\n",
       "    </tr>\n",
       "    <tr>\n",
       "      <th>2</th>\n",
       "      <td>262</td>\n",
       "      <td>DDD</td>\n",
       "      <td>107</td>\n",
       "      <td>663</td>\n",
       "      <td>M</td>\n",
       "      <td>West Midlands Region</td>\n",
       "      <td>A Level or Equivalent</td>\n",
       "      <td>90-100%</td>\n",
       "      <td>0-35</td>\n",
       "      <td>0</td>\n",
       "      <td>60</td>\n",
       "      <td>N</td>\n",
       "      <td>Pass</td>\n",
       "      <td>86.00</td>\n",
       "    </tr>\n",
       "    <tr>\n",
       "      <th>3</th>\n",
       "      <td>262</td>\n",
       "      <td>DDD</td>\n",
       "      <td>99</td>\n",
       "      <td>729</td>\n",
       "      <td>M</td>\n",
       "      <td>East Anglian Region</td>\n",
       "      <td>A Level or Equivalent</td>\n",
       "      <td>80-90%</td>\n",
       "      <td>0-35</td>\n",
       "      <td>0</td>\n",
       "      <td>90</td>\n",
       "      <td>N</td>\n",
       "      <td>Fail</td>\n",
       "      <td>65.25</td>\n",
       "    </tr>\n",
       "    <tr>\n",
       "      <th>4</th>\n",
       "      <td>262</td>\n",
       "      <td>DDD</td>\n",
       "      <td>143</td>\n",
       "      <td>453</td>\n",
       "      <td>F</td>\n",
       "      <td>South Region</td>\n",
       "      <td>A Level or Equivalent</td>\n",
       "      <td>40-50%</td>\n",
       "      <td>0-35</td>\n",
       "      <td>0</td>\n",
       "      <td>60</td>\n",
       "      <td>Y</td>\n",
       "      <td>Pass</td>\n",
       "      <td>87.50</td>\n",
       "    </tr>\n",
       "  </tbody>\n",
       "</table>\n",
       "</div>"
      ],
      "text/plain": [
       "   course_length code_module  date_registration  sum_click gender  \\\n",
       "0            262         DDD                 88        458      M   \n",
       "1            262         DDD                136       1107      M   \n",
       "2            262         DDD                107        663      M   \n",
       "3            262         DDD                 99        729      M   \n",
       "4            262         DDD                143        453      F   \n",
       "\n",
       "                 region      highest_education imd_band age_band  attempts  \\\n",
       "0  North Western Region     Lower Than A Level    0-10%     0-35         0   \n",
       "1              Scotland       HE Qualification   80-90%     55<=         0   \n",
       "2  West Midlands Region  A Level or Equivalent  90-100%     0-35         0   \n",
       "3   East Anglian Region  A Level or Equivalent   80-90%     0-35         0   \n",
       "4          South Region  A Level or Equivalent   40-50%     0-35         0   \n",
       "\n",
       "   studied_credits disability final_result  mean_score  \n",
       "0               60          N         Pass       86.50  \n",
       "1               60          N         Pass       80.00  \n",
       "2               60          N         Pass       86.00  \n",
       "3               90          N         Fail       65.25  \n",
       "4               60          Y         Pass       87.50  "
      ]
     },
     "execution_count": 7,
     "metadata": {},
     "output_type": "execute_result"
    }
   ],
   "source": [
    "df.rename(columns = {'module_presentation_length': 'course_length', \n",
    "                     'num_of_prev_attempts': 'attempts'}, inplace = True)\n",
    "df.head()"
   ]
  },
  {
   "cell_type": "markdown",
   "id": "2890392d",
   "metadata": {},
   "source": [
    "## Features\n",
    "\n",
    "* **course_length:** length of the code_module in days.\n",
    "* **code_module:** three letter id of the course.\n",
    "* **date_registration:** number of days student registered before the course beginning.\n",
    "* **sum_click:** sum of click student made on Vle for given course.\n",
    "* **gender:** gender of the student.\n",
    "* **region:** region of student location in UK.\n",
    "* **highest_education:** education level of the student.\n",
    "* **imd_band:** indices of multiple deprivation - a measure of economic status.\n",
    "* **age_band:** age category of the student.\n",
    "* **attempts:** number of times the student has attempted the class.\n",
    "* **disability:** disability status of the student.\n",
    "* **studied credits:** number of credits student acquired by the begginning of the course.\n",
    "* **mean_score:** The student's mean assessment score.\n"
   ]
  },
  {
   "cell_type": "markdown",
   "id": "726c95d8",
   "metadata": {},
   "source": [
    "### Binarize Classes"
   ]
  },
  {
   "cell_type": "markdown",
   "id": "4a2d6df6",
   "metadata": {},
   "source": [
    "* For the purpose of modeling, I will binarize the target labels, such that Fail/Withdraw - 1, and Pass/Distinc - 0."
   ]
  },
  {
   "cell_type": "code",
   "execution_count": 9,
   "id": "896d71dc",
   "metadata": {},
   "outputs": [
    {
     "data": {
      "text/plain": [
       "0    14628\n",
       "1     5596\n",
       "Name: final_result, dtype: int64"
      ]
     },
     "execution_count": 9,
     "metadata": {},
     "output_type": "execute_result"
    }
   ],
   "source": [
    "df['final_result'] = df['final_result'].apply(lambda x: 0 if ('Pass' in x or 'Distinct' in x ) else 1)\n",
    "df['final_result'].value_counts()"
   ]
  },
  {
   "cell_type": "code",
   "execution_count": 10,
   "id": "ad640e84",
   "metadata": {},
   "outputs": [
    {
     "name": "stdout",
     "output_type": "stream",
     "text": [
      "<class 'pandas.core.frame.DataFrame'>\n",
      "RangeIndex: 20224 entries, 0 to 20223\n",
      "Data columns (total 14 columns):\n",
      " #   Column             Non-Null Count  Dtype  \n",
      "---  ------             --------------  -----  \n",
      " 0   course_length      20224 non-null  int64  \n",
      " 1   code_module        20224 non-null  object \n",
      " 2   date_registration  20224 non-null  int64  \n",
      " 3   sum_click          20224 non-null  int64  \n",
      " 4   gender             20224 non-null  object \n",
      " 5   region             20224 non-null  object \n",
      " 6   highest_education  20224 non-null  object \n",
      " 7   imd_band           20224 non-null  object \n",
      " 8   age_band           20224 non-null  object \n",
      " 9   attempts           20224 non-null  int64  \n",
      " 10  studied_credits    20224 non-null  int64  \n",
      " 11  disability         20224 non-null  object \n",
      " 12  final_result       20224 non-null  int64  \n",
      " 13  mean_score         20224 non-null  float64\n",
      "dtypes: float64(1), int64(6), object(7)\n",
      "memory usage: 2.2+ MB\n"
     ]
    }
   ],
   "source": [
    "df.info()"
   ]
  },
  {
   "cell_type": "markdown",
   "id": "6257ad55",
   "metadata": {},
   "source": [
    "## Feature Correlation\n",
    "\n",
    "Explore how correlated numeric features are."
   ]
  },
  {
   "cell_type": "code",
   "execution_count": 11,
   "id": "b96a2a61",
   "metadata": {},
   "outputs": [
    {
     "data": {
      "image/png": "[encoded data removed]",
      "text/plain": [
       "<Figure size 1080x720 with 2 Axes>"
      ]
     },
     "metadata": {},
     "output_type": "display_data"
    }
   ],
   "source": [
    "corr = df.corr(method = 'pearson')\n",
    "\n",
    "mask = np.triu(np.ones_like(corr, dtype='bool'))\n",
    "\n",
    "with sns.axes_style(\"white\"):\n",
    "    f,ax = plt.subplots(figsize = (15,10))\n",
    "    ax = sns.heatmap(corr, mask = mask, vmax = 0.3, square = True)"
   ]
  },
  {
   "cell_type": "code",
   "execution_count": 12,
   "id": "dd747526",
   "metadata": {},
   "outputs": [
    {
     "name": "stdout",
     "output_type": "stream",
     "text": [
      "final_result         1.000000\n",
      "attempts             0.132633\n",
      "studied_credits      0.044604\n",
      "date_registration   -0.042975\n",
      "course_length       -0.072593\n",
      "sum_click           -0.220464\n",
      "mean_score          -0.402654\n",
      "Name: final_result, dtype: float64\n"
     ]
    }
   ],
   "source": [
    "corr_matrix = df.corr()\n",
    "corr_mat = corr_matrix[\"final_result\"].sort_values(ascending=False)\n",
    "print(corr_mat)"
   ]
  },
  {
   "cell_type": "markdown",
   "id": "ea961920",
   "metadata": {},
   "source": [
    "### Train-Test Split"
   ]
  },
  {
   "cell_type": "markdown",
   "id": "6ac6e154",
   "metadata": {},
   "source": [
    "To prevent models from **overfitting** and to be able to **accurately evaluate model** I will split the data to **X as a features and y as a target variable, and split data into three sets: train, test and holdout.**"
   ]
  },
  {
   "cell_type": "code",
   "execution_count": 13,
   "id": "d10a1ac8",
   "metadata": {},
   "outputs": [],
   "source": [
    "X = df.drop(\"final_result\", axis=1)\n",
    "y = df['final_result']"
   ]
  },
  {
   "cell_type": "markdown",
   "id": "282dda82",
   "metadata": {},
   "source": [
    "Now, split the data to **train and holdout sets** and then **split the train set into test and train sets too.**"
   ]
  },
  {
   "cell_type": "code",
   "execution_count": 14,
   "id": "2813eed0",
   "metadata": {},
   "outputs": [],
   "source": [
    "x_all, x_hold, y_all, y_hold = train_test_split(X, y, train_size = 0.80, random_state=2021)\n",
    "x_train, x_test, y_train, y_test = train_test_split(x_all, y_all, train_size = 0.75,random_state=2021)"
   ]
  },
  {
   "cell_type": "markdown",
   "id": "ff0da89e",
   "metadata": {},
   "source": [
    "### Data Imbalance"
   ]
  },
  {
   "cell_type": "markdown",
   "id": "853e1ab3",
   "metadata": {},
   "source": [
    "I will check how balanced my train data is based on target feature"
   ]
  },
  {
   "cell_type": "code",
   "execution_count": 15,
   "id": "7a1a494b",
   "metadata": {},
   "outputs": [
    {
     "data": {
      "text/plain": [
       "0    0.720949\n",
       "1    0.279051\n",
       "Name: final_result, dtype: float64"
      ]
     },
     "execution_count": 15,
     "metadata": {},
     "output_type": "execute_result"
    }
   ],
   "source": [
    "pd.Series(y_train).value_counts(normalize=True)"
   ]
  },
  {
   "cell_type": "markdown",
   "id": "7d835d68",
   "metadata": {},
   "source": [
    "* It is clear that train set is imbalanced. I will build first model with this data and later on try to balance it using SMOTE."
   ]
  },
  {
   "cell_type": "markdown",
   "id": "68488695",
   "metadata": {},
   "source": [
    "## Baseline Model - Logistic Regression"
   ]
  },
  {
   "cell_type": "markdown",
   "id": "0203b91f",
   "metadata": {},
   "source": [
    "### ColumnTransformer for Categorical Features\n",
    "\n",
    "Before I start any modeling, I will use **ColumnTransformer and OneHotEncode** all categorical features of the dataframe:"
   ]
  },
  {
   "cell_type": "code",
   "execution_count": 16,
   "id": "09f970e1",
   "metadata": {},
   "outputs": [
    {
     "data": {
      "text/plain": [
       "[1, 4, 5, 6, 7, 8, 11]"
      ]
     },
     "execution_count": 16,
     "metadata": {},
     "output_type": "execute_result"
    }
   ],
   "source": [
    "cat_cols = x_train.select_dtypes(include='object').columns\n",
    "indices = []\n",
    "for col in cat_cols:\n",
    "    indices.append(x_train.columns.get_loc(col))\n",
    "indices"
   ]
  },
  {
   "cell_type": "code",
   "execution_count": 17,
   "id": "95dc517b",
   "metadata": {},
   "outputs": [],
   "source": [
    "transformer = ColumnTransformer(transformers=[('categorical', \n",
    "                                               OneHotEncoder(handle_unknown = 'ignore'), indices)])"
   ]
  },
  {
   "cell_type": "markdown",
   "id": "e72f3607",
   "metadata": {},
   "source": [
    "### Build a Pipeline"
   ]
  },
  {
   "cell_type": "code",
   "execution_count": 18,
   "id": "bfd2a05d",
   "metadata": {},
   "outputs": [],
   "source": [
    "categ_pipeline = make_pipeline(transformer, StandardScaler(with_mean = False), \n",
    "                               LR(C=0.01, random_state=2021, max_iter = 5000))\n",
    "\n",
    "categ_pipeline.fit(x_train, y_train)\n",
    "categ_pipeline.score(x_test, y_test)\n",
    "\n",
    "history = mh.ModelHistory()"
   ]
  },
  {
   "cell_type": "code",
   "execution_count": 19,
   "id": "2be247c4",
   "metadata": {},
   "outputs": [
    {
     "name": "stdout",
     "output_type": "stream",
     "text": [
      "Average Accuracy Score: 0.7221873552712175\n",
      "Average Recall Score: 0.03546788741689424\n",
      "Average Precision Score: 0.5314309859561576\n",
      "Average F1 Score: 0.06639200073797755\n"
     ]
    }
   ],
   "source": [
    "history.report(categ_pipeline,x_train, y_train, 'Logistic Regression', \n",
    "               'Regression with All Features')"
   ]
  },
  {
   "cell_type": "code",
   "execution_count": 21,
   "id": "56d6fd33",
   "metadata": {},
   "outputs": [],
   "source": [
    "train_preds = categ_pipeline.predict(x_train)\n",
    "test_preds = categ_pipeline.predict(x_test)"
   ]
  },
  {
   "cell_type": "code",
   "execution_count": 22,
   "id": "1f67d6a4",
   "metadata": {},
   "outputs": [
    {
     "name": "stdout",
     "output_type": "stream",
     "text": [
      "Precision Score: 0.682895158147608\n",
      "Recall Score: 0.7235866161199934\n",
      "Accuracy Score: 0.7235866161199934\n",
      "F1 Score: 0.6239501152435228\n",
      "\n",
      "\n",
      "Precision Score: 0.6511154625513287\n",
      "Recall Score: 0.7184177997527812\n",
      "Accuracy Score: 0.7184177997527812\n",
      "F1 Score: 0.6185505317605995\n",
      "\n",
      "\n"
     ]
    }
   ],
   "source": [
    "mf.print_metrics(y_train,train_preds)\n",
    "mf.print_metrics(y_test,test_preds)"
   ]
  },
  {
   "cell_type": "code",
   "execution_count": 23,
   "id": "939bccb5",
   "metadata": {
    "scrolled": true
   },
   "outputs": [
    {
     "data": {
      "text/plain": [
       "<Figure size 720x720 with 0 Axes>"
      ]
     },
     "metadata": {},
     "output_type": "display_data"
    },
    {
     "data": {
      "image/png": "[encoded data removed]",
      "text/plain": [
       "<Figure size 432x288 with 2 Axes>"
      ]
     },
     "metadata": {},
     "output_type": "display_data"
    }
   ],
   "source": [
    "plt.figure(figsize =(10,10))\n",
    "plot_confusion_matrix(categ_pipeline, x_test, y_test,\n",
    "                     cmap=plt.cm.Blues,normalize='true')\n",
    "\n",
    "plt.xticks(horizontalalignment='right', fontsize='small')\n",
    "plt.show()"
   ]
  },
  {
   "cell_type": "code",
   "execution_count": 24,
   "id": "bd182700",
   "metadata": {},
   "outputs": [
    {
     "name": "stdout",
     "output_type": "stream",
     "text": [
      "Number of values correctly predicted:\n",
      "True     8780\n",
      "False    3354\n",
      "Name: final_result, dtype: int64\n"
     ]
    }
   ],
   "source": [
    "residuals = y_train == train_preds\n",
    "\n",
    "print('Number of values correctly predicted:')\n",
    "print(pd.Series(residuals).value_counts())"
   ]
  },
  {
   "cell_type": "code",
   "execution_count": 25,
   "id": "c7604496",
   "metadata": {},
   "outputs": [
    {
     "name": "stdout",
     "output_type": "stream",
     "text": [
      "Number of values correctly predicted:\n",
      "True     2906\n",
      "False    1139\n",
      "Name: final_result, dtype: int64\n"
     ]
    }
   ],
   "source": [
    "residuals = y_test == test_preds\n",
    "\n",
    "print('Number of values correctly predicted:')\n",
    "print(pd.Series(residuals).value_counts())"
   ]
  },
  {
   "cell_type": "markdown",
   "id": "e766e05d",
   "metadata": {},
   "source": [
    "**Model Results:**\n",
    "* There is no overfitting since model evaluation scores for train and test splits are close enough to each other.\n",
    "* From confusion matrix it is clear that model predicting most of the outcomes as \"Pass\", due to class imbalance\n",
    "* About 1/3 of outcomes were predicted falsely based on residuals"
   ]
  },
  {
   "cell_type": "markdown",
   "id": "9fc517bf",
   "metadata": {},
   "source": [
    "## Logistic Regression with Upsampled Data\n",
    "\n",
    "Since the classes of the target are imbalanced,  will use SMOTE() to upsample data."
   ]
  },
  {
   "cell_type": "code",
   "execution_count": 26,
   "id": "226c1c80",
   "metadata": {},
   "outputs": [
    {
     "name": "stdout",
     "output_type": "stream",
     "text": [
      "Average Accuracy Score: 0.5943641169048651\n",
      "Average Recall Score: 0.5881920480181895\n",
      "Average Precision Score: 0.3606393267528933\n",
      "Average F1 Score: 0.44694544710481693\n"
     ]
    }
   ],
   "source": [
    "upsample_pipe = make_pipeline(transformer, StandardScaler(with_mean = False), \n",
    "                              SMOTE(random_state = 2021), \n",
    "                              LR(C=0.01, random_state=2021))\n",
    "\n",
    "upsample_pipe.fit(x_train, y_train)\n",
    "upsample_pipe.score(x_test, y_test)\n",
    "\n",
    "history.report(upsample_pipe,x_train, y_train, 'Logistic Regression', \n",
    "               'Logistic Regression with Upsampled Data')"
   ]
  },
  {
   "cell_type": "code",
   "execution_count": 27,
   "id": "dd09353f",
   "metadata": {},
   "outputs": [],
   "source": [
    "train_preds = upsample_pipe.predict(x_train)\n",
    "test_preds = upsample_pipe.predict(x_test)"
   ]
  },
  {
   "cell_type": "code",
   "execution_count": 28,
   "id": "7a5bc3f9",
   "metadata": {},
   "outputs": [
    {
     "name": "stdout",
     "output_type": "stream",
     "text": [
      "Precision Score: 0.6746453195626928\n",
      "Recall Score: 0.5979067084226142\n",
      "Accuracy Score: 0.5979067084226142\n",
      "F1 Score: 0.6182357510526185\n",
      "\n",
      "\n",
      "Precision Score: 0.677889805650391\n",
      "Recall Score: 0.596044499381953\n",
      "Accuracy Score: 0.596044499381953\n",
      "F1 Score: 0.616498506975775\n",
      "\n",
      "\n"
     ]
    }
   ],
   "source": [
    "mf.print_metrics(y_train,train_preds)\n",
    "mf.print_metrics(y_test,test_preds)"
   ]
  },
  {
   "cell_type": "code",
   "execution_count": 29,
   "id": "0d2990d3",
   "metadata": {
    "scrolled": true
   },
   "outputs": [
    {
     "data": {
      "text/plain": [
       "<Figure size 720x720 with 0 Axes>"
      ]
     },
     "metadata": {},
     "output_type": "display_data"
    },
    {
     "data": {
      "image/png": "[encoded data removed]",
      "text/plain": [
       "<Figure size 432x288 with 2 Axes>"
      ]
     },
     "metadata": {},
     "output_type": "display_data"
    }
   ],
   "source": [
    "plt.figure(figsize =(10,10))\n",
    "plot_confusion_matrix(upsample_pipe, x_test, y_test,\n",
    "                     cmap=plt.cm.Blues,normalize='true')\n",
    "\n",
    "plt.xticks(horizontalalignment='right', fontsize='small')\n",
    "plt.show()"
   ]
  },
  {
   "cell_type": "code",
   "execution_count": 30,
   "id": "08e62025",
   "metadata": {},
   "outputs": [
    {
     "name": "stdout",
     "output_type": "stream",
     "text": [
      "Number of values correctly predicted:\n",
      "True     7255\n",
      "False    4879\n",
      "Name: final_result, dtype: int64\n"
     ]
    }
   ],
   "source": [
    "residuals = y_train == train_preds\n",
    "\n",
    "print('Number of values correctly predicted:')\n",
    "print(pd.Series(residuals).value_counts())"
   ]
  },
  {
   "cell_type": "code",
   "execution_count": 31,
   "id": "8fd7bd4b",
   "metadata": {},
   "outputs": [
    {
     "name": "stdout",
     "output_type": "stream",
     "text": [
      "Number of values correctly predicted:\n",
      "True     2411\n",
      "False    1634\n",
      "Name: final_result, dtype: int64\n"
     ]
    }
   ],
   "source": [
    "residuals = y_test == test_preds\n",
    "\n",
    "print('Number of values correctly predicted:')\n",
    "print(pd.Series(residuals).value_counts())"
   ]
  },
  {
   "cell_type": "markdown",
   "id": "3f571fa5",
   "metadata": {},
   "source": [
    "**Model Results:**\n",
    "\n",
    "* Upsampled model performed worse than imbalanced data in terms of evaluation metrics\n",
    "* The confusion matrix shows better performance in term of high diagonal values.\n",
    "* The value of false negative got down"
   ]
  },
  {
   "cell_type": "markdown",
   "id": "c648acb9",
   "metadata": {},
   "source": [
    "## Grid Search for C Value"
   ]
  },
  {
   "cell_type": "code",
   "execution_count": 32,
   "id": "80cf597c",
   "metadata": {},
   "outputs": [
    {
     "name": "stdout",
     "output_type": "stream",
     "text": [
      "Best C: 0.05\n"
     ]
    }
   ],
   "source": [
    "C = [0.01, 0.05, 0.1, 0.2, 0.3, 0.4, 0.5, 0.6, 0.7, 0.8, 0.9, 1.0]\n",
    "\n",
    "parameters = dict(logisticregression__C=C)\n",
    "\n",
    "clf_GS = GridSearchCV(upsample_pipe, parameters)\n",
    "\n",
    "clf_GS.fit(x_train, y_train)\n",
    "\n",
    "\n",
    "print('Best C:', clf_GS.best_estimator_.get_params()['logisticregression__C'])"
   ]
  },
  {
   "cell_type": "code",
   "execution_count": 33,
   "id": "86e38515",
   "metadata": {},
   "outputs": [
    {
     "data": {
      "text/plain": [
       "0.5928306551297898"
      ]
     },
     "execution_count": 33,
     "metadata": {},
     "output_type": "execute_result"
    }
   ],
   "source": [
    "lr_pipe_2 = make_pipeline(transformer, StandardScaler(with_mean = False), SMOTE(),\n",
    "                              LR(C=clf_GS.best_estimator_.get_params()['logisticregression__C'],\n",
    "                                                 random_state=2021, max_iter = 5000))\n",
    "lr_pipe_2.fit(x_train, y_train)\n",
    "lr_pipe_2.score(x_test, y_test)"
   ]
  },
  {
   "cell_type": "code",
   "execution_count": 34,
   "id": "b940746a",
   "metadata": {},
   "outputs": [
    {
     "name": "stdout",
     "output_type": "stream",
     "text": [
      "Average Accuracy Score: 0.591726844413418\n",
      "Average Recall Score: 0.5879385707038562\n",
      "Average Precision Score: 0.35839601965588913\n",
      "Average F1 Score: 0.44518976487074413\n"
     ]
    }
   ],
   "source": [
    "history.report(lr_pipe_2,x_train, y_train, 'Logistic Regression', \n",
    "               'Regression with All Features and Best C - Value')"
   ]
  },
  {
   "cell_type": "code",
   "execution_count": 35,
   "id": "63cfaa60",
   "metadata": {},
   "outputs": [],
   "source": [
    "train_preds = lr_pipe_2.predict(x_train)\n",
    "test_preds = lr_pipe_2.predict(x_test)"
   ]
  },
  {
   "cell_type": "code",
   "execution_count": 36,
   "id": "ac3faf34",
   "metadata": {},
   "outputs": [
    {
     "name": "stdout",
     "output_type": "stream",
     "text": [
      "Precision Score: 0.6747050752827987\n",
      "Recall Score: 0.5970825778803363\n",
      "Accuracy Score: 0.5970825778803363\n",
      "F1 Score: 0.6174967442439127\n",
      "\n",
      "\n",
      "Precision Score: 0.6763031872672706\n",
      "Recall Score: 0.5928306551297898\n",
      "Accuracy Score: 0.5928306551297898\n",
      "F1 Score: 0.6134902619423326\n",
      "\n",
      "\n"
     ]
    }
   ],
   "source": [
    "mf.print_metrics(y_train,train_preds)\n",
    "mf.print_metrics(y_test,test_preds)"
   ]
  },
  {
   "cell_type": "code",
   "execution_count": 37,
   "id": "3b14e7d6",
   "metadata": {
    "scrolled": true
   },
   "outputs": [
    {
     "data": {
      "text/plain": [
       "<Figure size 720x720 with 0 Axes>"
      ]
     },
     "metadata": {},
     "output_type": "display_data"
    },
    {
     "data": {
      "image/png": "[encoded data removed]",
      "text/plain": [
       "<Figure size 432x288 with 2 Axes>"
      ]
     },
     "metadata": {},
     "output_type": "display_data"
    }
   ],
   "source": [
    "plt.figure(figsize =(10,10))\n",
    "plot_confusion_matrix(lr_pipe_2, x_test, y_test,\n",
    "                     cmap=plt.cm.Blues,normalize='true')\n",
    "\n",
    "plt.xticks(horizontalalignment='right', fontsize='small')\n",
    "plt.show()"
   ]
  },
  {
   "cell_type": "markdown",
   "id": "75da9e21",
   "metadata": {},
   "source": [
    "### Model Results:\n",
    "* Model Performed same as Upsampled Logistic Regression in terms of metrics\n",
    "* Confusion Matrix shows same value for false negatives"
   ]
  },
  {
   "cell_type": "markdown",
   "id": "832c8dfd",
   "metadata": {},
   "source": [
    "## K Nearest Neighbors"
   ]
  },
  {
   "cell_type": "code",
   "execution_count": 52,
   "id": "56b03402",
   "metadata": {},
   "outputs": [],
   "source": [
    "knn_pipeline = make_pipeline(transformer, StandardScaler(with_mean = False), \n",
    "                             SMOTE(), KNN())\n",
    "\n"
   ]
  },
  {
   "cell_type": "code",
   "execution_count": 53,
   "id": "8f6dd8ec",
   "metadata": {},
   "outputs": [
    {
     "name": "stdout",
     "output_type": "stream",
     "text": [
      "Average Accuracy Score: 0.5710394395694094\n",
      "Average Recall Score: 0.45816287159497315\n",
      "Average Precision Score: 0.31519496400538133\n",
      "Average F1 Score: 0.37335347524010304\n"
     ]
    }
   ],
   "source": [
    "history.report(knn_pipeline,x_train, y_train, 'KNN - Defaults', \n",
    "               'KNN with All Features')"
   ]
  },
  {
   "cell_type": "code",
   "execution_count": 54,
   "id": "1dc88279",
   "metadata": {},
   "outputs": [
    {
     "data": {
      "text/plain": [
       "0.5859085290482077"
      ]
     },
     "execution_count": 54,
     "metadata": {},
     "output_type": "execute_result"
    }
   ],
   "source": [
    "knn_pipeline.fit(x_train, y_train)\n",
    "knn_pipeline.score(x_test, y_test)"
   ]
  },
  {
   "cell_type": "code",
   "execution_count": 55,
   "id": "50db5fc6",
   "metadata": {},
   "outputs": [],
   "source": [
    "train_preds = knn_pipeline.predict(x_train)\n",
    "test_preds = knn_pipeline.predict(x_test)"
   ]
  },
  {
   "cell_type": "code",
   "execution_count": 56,
   "id": "e6d2015f",
   "metadata": {},
   "outputs": [
    {
     "name": "stdout",
     "output_type": "stream",
     "text": [
      "Precision Score: 0.768541188615851\n",
      "Recall Score: 0.7389154442063622\n",
      "Accuracy Score: 0.7389154442063622\n",
      "F1 Score: 0.7481762186110825\n",
      "\n",
      "\n",
      "Precision Score: 0.634668205148622\n",
      "Recall Score: 0.5859085290482077\n",
      "Accuracy Score: 0.5859085290482077\n",
      "F1 Score: 0.6032380167010051\n",
      "\n",
      "\n"
     ]
    }
   ],
   "source": [
    "mf.print_metrics(y_train,train_preds)\n",
    "mf.print_metrics(y_test,test_preds)"
   ]
  },
  {
   "cell_type": "code",
   "execution_count": 57,
   "id": "79e1968e",
   "metadata": {
    "scrolled": true
   },
   "outputs": [
    {
     "data": {
      "text/plain": [
       "<Figure size 720x720 with 0 Axes>"
      ]
     },
     "metadata": {},
     "output_type": "display_data"
    },
    {
     "data": {
      "image/png": "[encoded data removed]",
      "text/plain": [
       "<Figure size 432x288 with 2 Axes>"
      ]
     },
     "metadata": {},
     "output_type": "display_data"
    }
   ],
   "source": [
    "plt.figure(figsize =(10,10))\n",
    "plot_confusion_matrix(knn_pipeline, x_test, y_test,\n",
    "                     cmap=plt.cm.Blues,normalize='true')\n",
    "\n",
    "plt.xticks(horizontalalignment='right', fontsize='small')\n",
    "plt.show()"
   ]
  },
  {
   "cell_type": "code",
   "execution_count": 58,
   "id": "20512dec",
   "metadata": {},
   "outputs": [
    {
     "name": "stdout",
     "output_type": "stream",
     "text": [
      "Number of values correctly predicted:\n",
      "True     8966\n",
      "False    3168\n",
      "Name: final_result, dtype: int64\n"
     ]
    }
   ],
   "source": [
    "residuals = y_train == train_preds\n",
    "\n",
    "print('Number of values correctly predicted:')\n",
    "print(pd.Series(residuals).value_counts())"
   ]
  },
  {
   "cell_type": "code",
   "execution_count": 59,
   "id": "3f093e58",
   "metadata": {},
   "outputs": [
    {
     "name": "stdout",
     "output_type": "stream",
     "text": [
      "Number of values correctly predicted:\n",
      "True     2370\n",
      "False    1675\n",
      "Name: final_result, dtype: int64\n"
     ]
    }
   ],
   "source": [
    "residuals = y_test == test_preds\n",
    "\n",
    "print('Number of values correctly predicted:')\n",
    "print(pd.Series(residuals).value_counts())"
   ]
  },
  {
   "cell_type": "markdown",
   "id": "dcf64f00",
   "metadata": {},
   "source": [
    "### Model Results:\n",
    "* Model is overfitting training data based on metrics\n",
    "* Confusion matrix on test sets shows increased valur for false negatives"
   ]
  },
  {
   "cell_type": "markdown",
   "id": "5d9c6680",
   "metadata": {},
   "source": [
    "## Decision Tree Model"
   ]
  },
  {
   "cell_type": "code",
   "execution_count": null,
   "id": "ef45d818",
   "metadata": {},
   "outputs": [],
   "source": [
    "dt_pipeline = make_pipeline(transformer, StandardScaler(with_mean = False), \n",
    "                             SMOTE(), DT(random_state = 2021))"
   ]
  },
  {
   "cell_type": "code",
   "execution_count": null,
   "id": "732f5b2f",
   "metadata": {},
   "outputs": [],
   "source": [
    "history.report(dt_pipeline,x_train, y_train, 'Decision Tree - Defaults', \n",
    "               'Decision Tree with All Features')"
   ]
  },
  {
   "cell_type": "code",
   "execution_count": null,
   "id": "c483a8a3",
   "metadata": {},
   "outputs": [],
   "source": [
    "dt_pipeline.fit(x_train, y_train)\n",
    "dt_pipeline.score(x_test, y_test)"
   ]
  },
  {
   "cell_type": "code",
   "execution_count": null,
   "id": "9ca3b26e",
   "metadata": {},
   "outputs": [],
   "source": [
    "train_preds = dt_pipeline.predict(x_train)\n",
    "test_preds = dt_pipeline.predict(x_test)"
   ]
  },
  {
   "cell_type": "code",
   "execution_count": null,
   "id": "f5e55400",
   "metadata": {},
   "outputs": [],
   "source": [
    "mf.print_metrics(y_train,train_preds)\n",
    "mf.print_metrics(y_test,test_preds)"
   ]
  },
  {
   "cell_type": "code",
   "execution_count": null,
   "id": "6522f813",
   "metadata": {
    "scrolled": true
   },
   "outputs": [],
   "source": [
    "plt.figure(figsize =(10,10))\n",
    "plot_confusion_matrix(dt_pipeline, x_test, y_test,\n",
    "                     cmap=plt.cm.Blues,normalize='true')\n",
    "\n",
    "plt.xticks(horizontalalignment='right', fontsize='small')\n",
    "plt.show()"
   ]
  },
  {
   "cell_type": "code",
   "execution_count": null,
   "id": "a9740daa",
   "metadata": {},
   "outputs": [],
   "source": [
    "residuals = y_train == train_preds\n",
    "\n",
    "print('Number of values correctly predicted:')\n",
    "print(pd.Series(residuals).value_counts())"
   ]
  },
  {
   "cell_type": "code",
   "execution_count": null,
   "id": "ab651722",
   "metadata": {},
   "outputs": [],
   "source": [
    "residuals = y_test == test_preds\n",
    "\n",
    "print('Number of values correctly predicted:')\n",
    "print(pd.Series(residuals).value_counts())"
   ]
  },
  {
   "cell_type": "markdown",
   "id": "353e61b2",
   "metadata": {},
   "source": [
    "### Max Depth of Tree"
   ]
  },
  {
   "cell_type": "code",
   "execution_count": null,
   "id": "ab98a972",
   "metadata": {},
   "outputs": [],
   "source": [
    "max_depths = np.linspace(1, 15, 15, endpoint=True)\n",
    "train_results = []\n",
    "test_results = []\n",
    "\n",
    "for max_depth in max_depths:\n",
    "    \n",
    "    dt_depth_p = make_pipeline(transformer, StandardScaler(with_mean = False), \n",
    "                             SMOTE(), DT( max_depth=max_depth,\n",
    "                                         random_state = 1))\n",
    "    dt_depth_p.fit(x_train, y_train)\n",
    "    train_pred = dt_depth_p.predict(x_train)\n",
    "    false_positive_rate, true_positive_rate, thresholds = roc_curve(y_train, train_pred)\n",
    "    roc_auc = auc(false_positive_rate, true_positive_rate)\n",
    "    # Add auc score to previous train results\n",
    "    train_results.append(roc_auc)\n",
    "    y_pred = dt_depth_p.predict(x_test)\n",
    "    false_positive_rate, true_positive_rate, thresholds = roc_curve(y_test, y_pred)\n",
    "    roc_auc = auc(false_positive_rate, true_positive_rate)\n",
    "    # Add auc score to previous test results\n",
    "    test_results.append(roc_auc)\n",
    "\n",
    "plt.figure(figsize=(12,6))\n",
    "plt.plot(max_depths, train_results, 'b', label='Train AUC')\n",
    "plt.plot(max_depths, test_results, 'r', label='Test AUC')\n",
    "plt.ylabel('AUC Score')\n",
    "plt.xlabel('Tree Depth')\n",
    "plt.legend()\n",
    "plt.show()"
   ]
  },
  {
   "cell_type": "code",
   "execution_count": null,
   "id": "ff2acbb2",
   "metadata": {},
   "outputs": [],
   "source": [
    "# Max depth 5 or 7"
   ]
  },
  {
   "cell_type": "code",
   "execution_count": null,
   "id": "b3d83c10",
   "metadata": {},
   "outputs": [],
   "source": [
    "dt_pipe_2 = make_pipeline(transformer, StandardScaler(with_mean = False), \n",
    "                             SMOTE(), DT(random_state = 2021, max_depth = 7))"
   ]
  },
  {
   "cell_type": "code",
   "execution_count": null,
   "id": "69cd74d5",
   "metadata": {},
   "outputs": [],
   "source": [
    "history.report(dt_pipe_2,x_train, y_train, 'Decision Tree - Depth 9', \n",
    "               'Decision Tree with Max Depth of 9')"
   ]
  },
  {
   "cell_type": "code",
   "execution_count": null,
   "id": "9a1f8135",
   "metadata": {},
   "outputs": [],
   "source": [
    "dt_pipe_2.fit(x_train, y_train)\n",
    "dt_pipe_2.score(x_test, y_test)"
   ]
  },
  {
   "cell_type": "code",
   "execution_count": null,
   "id": "3b448bc8",
   "metadata": {},
   "outputs": [],
   "source": [
    "train_preds = dt_pipe_2.predict(x_train)\n",
    "test_preds = dt_pipe_2.predict(x_test)"
   ]
  },
  {
   "cell_type": "code",
   "execution_count": null,
   "id": "e3f7bc13",
   "metadata": {},
   "outputs": [],
   "source": [
    "mf.print_metrics(y_train,train_preds)\n",
    "mf.print_metrics(y_test,test_preds)"
   ]
  },
  {
   "cell_type": "code",
   "execution_count": null,
   "id": "16e57988",
   "metadata": {
    "scrolled": true
   },
   "outputs": [],
   "source": [
    "plt.figure(figsize =(10,10))\n",
    "plot_confusion_matrix(dt_pipe_2, x_test, y_test,\n",
    "                     cmap=plt.cm.Blues,normalize='true')\n",
    "\n",
    "plt.xticks(horizontalalignment='right', fontsize='small')\n",
    "plt.show()"
   ]
  },
  {
   "cell_type": "code",
   "execution_count": null,
   "id": "9a9dc188",
   "metadata": {},
   "outputs": [],
   "source": [
    "residuals = y_train == train_preds\n",
    "\n",
    "print('Number of values correctly predicted:')\n",
    "print(pd.Series(residuals).value_counts())"
   ]
  },
  {
   "cell_type": "code",
   "execution_count": null,
   "id": "a4a3d799",
   "metadata": {},
   "outputs": [],
   "source": [
    "residuals = y_test == test_preds\n",
    "\n",
    "print('Number of values correctly predicted:')\n",
    "print(pd.Series(residuals).value_counts())"
   ]
  },
  {
   "cell_type": "markdown",
   "id": "27ea5d1d",
   "metadata": {},
   "source": [
    "### Improved"
   ]
  },
  {
   "cell_type": "markdown",
   "id": "0557c31b",
   "metadata": {},
   "source": [
    "## Random Forest Model"
   ]
  },
  {
   "cell_type": "code",
   "execution_count": null,
   "id": "a56db71c",
   "metadata": {},
   "outputs": [],
   "source": [
    "rf_pipeline = make_pipeline(transformer, StandardScaler(with_mean = False), \n",
    "                             SMOTE(), RFC(max_depth = 7, random_state = 2021))"
   ]
  },
  {
   "cell_type": "code",
   "execution_count": null,
   "id": "17630759",
   "metadata": {},
   "outputs": [],
   "source": [
    "history.report(rf_pipeline,x_train, y_train, 'Random Forest - Defaults', \n",
    "               'Random Forest with All Features')"
   ]
  },
  {
   "cell_type": "code",
   "execution_count": null,
   "id": "3dade528",
   "metadata": {},
   "outputs": [],
   "source": [
    "rf_pipeline.fit(x_train, y_train)\n",
    "rf_pipeline.score(x_test, y_test)"
   ]
  },
  {
   "cell_type": "code",
   "execution_count": null,
   "id": "6f68218d",
   "metadata": {},
   "outputs": [],
   "source": [
    "train_preds = rf_pipeline.predict(x_train)\n",
    "test_preds = rf_pipeline.predict(x_test)"
   ]
  },
  {
   "cell_type": "code",
   "execution_count": null,
   "id": "8ef17b4c",
   "metadata": {},
   "outputs": [],
   "source": [
    "mf.print_metrics(y_train,train_preds)\n",
    "mf.print_metrics(y_test,test_preds)"
   ]
  },
  {
   "cell_type": "code",
   "execution_count": null,
   "id": "a6457ddd",
   "metadata": {
    "scrolled": true
   },
   "outputs": [],
   "source": [
    "plt.figure(figsize =(10,10))\n",
    "plot_confusion_matrix(rf_pipeline, x_test, y_test,\n",
    "                     cmap=plt.cm.Blues,normalize='true')\n",
    "\n",
    "plt.xticks(horizontalalignment='right', fontsize='small')\n",
    "plt.show()"
   ]
  },
  {
   "cell_type": "code",
   "execution_count": null,
   "id": "65ca4f73",
   "metadata": {},
   "outputs": [],
   "source": [
    "residuals = y_train == train_preds\n",
    "\n",
    "print('Number of values correctly predicted:')\n",
    "print(pd.Series(residuals).value_counts())"
   ]
  },
  {
   "cell_type": "code",
   "execution_count": null,
   "id": "e7424622",
   "metadata": {},
   "outputs": [],
   "source": [
    "residuals = y_test == test_preds\n",
    "\n",
    "print('Number of values correctly predicted:')\n",
    "print(pd.Series(residuals).value_counts())"
   ]
  },
  {
   "cell_type": "markdown",
   "id": "daed8708",
   "metadata": {},
   "source": [
    "### Improved"
   ]
  },
  {
   "cell_type": "markdown",
   "id": "c3a1f7a8",
   "metadata": {},
   "source": [
    "## Gradient Boost"
   ]
  },
  {
   "cell_type": "code",
   "execution_count": null,
   "id": "ff33388c",
   "metadata": {},
   "outputs": [],
   "source": [
    "gbc_pipeline = make_pipeline(transformer, StandardScaler(with_mean = False), \n",
    "                             SMOTE(), GBC(max_depth = 7, random_state = 2021))"
   ]
  },
  {
   "cell_type": "code",
   "execution_count": null,
   "id": "b2c070c5",
   "metadata": {},
   "outputs": [],
   "source": [
    "history.report(gbc_pipeline,x_train, y_train, 'Gradient Boost - Defaults', \n",
    "               'Gradient Boost with All Features')"
   ]
  },
  {
   "cell_type": "code",
   "execution_count": null,
   "id": "223c8629",
   "metadata": {},
   "outputs": [],
   "source": [
    "gbc_pipeline.fit(x_train, y_train)\n",
    "gbc_pipeline.score(x_test, y_test)"
   ]
  },
  {
   "cell_type": "code",
   "execution_count": null,
   "id": "b00e0bc8",
   "metadata": {},
   "outputs": [],
   "source": [
    "train_preds = gbc_pipeline.predict(x_train)\n",
    "test_preds = gbc_pipeline.predict(x_test)"
   ]
  },
  {
   "cell_type": "code",
   "execution_count": null,
   "id": "4ed026c1",
   "metadata": {},
   "outputs": [],
   "source": [
    "mf.print_metrics(y_train,train_preds)\n",
    "mf.print_metrics(y_test,test_preds)"
   ]
  },
  {
   "cell_type": "code",
   "execution_count": null,
   "id": "627a6c45",
   "metadata": {
    "scrolled": true
   },
   "outputs": [],
   "source": [
    "plt.figure(figsize =(10,10))\n",
    "plot_confusion_matrix(gbc_pipeline, x_test, y_test,\n",
    "                     cmap=plt.cm.Blues,normalize='true')\n",
    "\n",
    "plt.xticks(horizontalalignment='right', fontsize='small')\n",
    "plt.show()"
   ]
  },
  {
   "cell_type": "code",
   "execution_count": null,
   "id": "5bece52d",
   "metadata": {},
   "outputs": [],
   "source": [
    "residuals = y_train == train_preds\n",
    "\n",
    "print('Number of values correctly predicted:')\n",
    "print(pd.Series(residuals).value_counts())"
   ]
  },
  {
   "cell_type": "code",
   "execution_count": null,
   "id": "c6bb4c30",
   "metadata": {},
   "outputs": [],
   "source": [
    "residuals = y_test == test_preds\n",
    "\n",
    "print('Number of values correctly predicted:')\n",
    "print(pd.Series(residuals).value_counts())"
   ]
  },
  {
   "cell_type": "markdown",
   "id": "14d61324",
   "metadata": {},
   "source": [
    "## XGBoost"
   ]
  },
  {
   "cell_type": "code",
   "execution_count": null,
   "id": "d867cb03",
   "metadata": {},
   "outputs": [],
   "source": [
    "xgb_pipeline = make_pipeline(transformer, StandardScaler(with_mean = False), \n",
    "                             SMOTE(), XGB(use_label_encoder=False, verbosity=0))"
   ]
  },
  {
   "cell_type": "code",
   "execution_count": null,
   "id": "115a5e75",
   "metadata": {},
   "outputs": [],
   "source": [
    "history.report(xgb_pipeline,x_train, y_train, 'XGBoost - Defaults', \n",
    "               'XGBoost with All Features')"
   ]
  },
  {
   "cell_type": "code",
   "execution_count": null,
   "id": "0285d23d",
   "metadata": {},
   "outputs": [],
   "source": [
    "xgb_pipeline.fit(x_train, y_train)\n",
    "xgb_pipeline.score(x_test, y_test)"
   ]
  },
  {
   "cell_type": "code",
   "execution_count": null,
   "id": "fad2311b",
   "metadata": {},
   "outputs": [],
   "source": [
    "train_preds = xgb_pipeline.predict(x_train)\n",
    "test_preds = xgb_pipeline.predict(x_test)"
   ]
  },
  {
   "cell_type": "code",
   "execution_count": null,
   "id": "15ad0e9e",
   "metadata": {},
   "outputs": [],
   "source": [
    "mf.print_metrics(y_train,train_preds)\n",
    "mf.print_metrics(y_test,test_preds)"
   ]
  },
  {
   "cell_type": "code",
   "execution_count": null,
   "id": "244ca66c",
   "metadata": {
    "scrolled": true
   },
   "outputs": [],
   "source": [
    "plt.figure(figsize =(10,10))\n",
    "plot_confusion_matrix(xgb_pipeline, x_test, y_test,\n",
    "                     cmap=plt.cm.Blues,normalize='true')\n",
    "\n",
    "plt.xticks(horizontalalignment='right', fontsize='small')\n",
    "plt.show()"
   ]
  },
  {
   "cell_type": "code",
   "execution_count": null,
   "id": "e26dbac3",
   "metadata": {},
   "outputs": [],
   "source": [
    "residuals = y_train == train_preds\n",
    "\n",
    "print('Number of values correctly predicted:')\n",
    "print(pd.Series(residuals).value_counts())"
   ]
  },
  {
   "cell_type": "code",
   "execution_count": null,
   "id": "7a683c4d",
   "metadata": {},
   "outputs": [],
   "source": [
    "residuals = y_test == test_preds\n",
    "\n",
    "print('Number of values correctly predicted:')\n",
    "print(pd.Series(residuals).value_counts())"
   ]
  },
  {
   "cell_type": "markdown",
   "id": "b061df8d",
   "metadata": {},
   "source": [
    "## Demographic Features Random Forest"
   ]
  },
  {
   "cell_type": "code",
   "execution_count": null,
   "id": "07e41d06",
   "metadata": {},
   "outputs": [],
   "source": [
    "x_train.info()"
   ]
  },
  {
   "cell_type": "code",
   "execution_count": null,
   "id": "d6a12f41",
   "metadata": {},
   "outputs": [],
   "source": [
    "labels = ['gender', 'region', 'highest_education', 'imd_band', \n",
    "          'age_band', 'attempts', 'studied_credits', 'disability']\n",
    "\n",
    "x_train_demo = x_train[labels]\n",
    "x_test_demo = x_test[labels]\n"
   ]
  },
  {
   "cell_type": "code",
   "execution_count": null,
   "id": "c4772a6b",
   "metadata": {},
   "outputs": [],
   "source": [
    "cat_cols = x_train_demo.select_dtypes(include='object').columns\n",
    "indices = []\n",
    "for col in cat_cols:\n",
    "    indices.append(x_train_demo.columns.get_loc(col))\n",
    "\n",
    "transformer = ColumnTransformer(transformers=[('categorical', \n",
    "                                               OneHotEncoder(handle_unknown = 'ignore'), indices)])"
   ]
  },
  {
   "cell_type": "code",
   "execution_count": null,
   "id": "d9db972b",
   "metadata": {},
   "outputs": [],
   "source": [
    "dm_lr_pipe = make_pipeline(transformer, StandardScaler(with_mean = False),SMOTE(), \n",
    "                           RFC(max_depth = 7, random_state = 2021))"
   ]
  },
  {
   "cell_type": "code",
   "execution_count": null,
   "id": "2f856bcc",
   "metadata": {},
   "outputs": [],
   "source": [
    "history.report(dm_lr_pipe,x_train_demo, y_train, 'random Forest Demographics', \n",
    "               'Random Forest with Demographic Features and Best C value')"
   ]
  },
  {
   "cell_type": "code",
   "execution_count": null,
   "id": "7286fc9f",
   "metadata": {},
   "outputs": [],
   "source": [
    "dm_lr_pipe.fit(x_train_demo, y_train)\n",
    "dm_lr_pipe.score(x_test_demo, y_test)"
   ]
  },
  {
   "cell_type": "code",
   "execution_count": null,
   "id": "2c7f0116",
   "metadata": {},
   "outputs": [],
   "source": [
    "train_preds = dm_lr_pipe.predict(x_train_demo)\n",
    "test_preds = dm_lr_pipe.predict(x_test_demo)"
   ]
  },
  {
   "cell_type": "code",
   "execution_count": null,
   "id": "07bd79de",
   "metadata": {},
   "outputs": [],
   "source": [
    "mf.print_metrics(y_train,train_preds)\n",
    "mf.print_metrics(y_test,test_preds)"
   ]
  },
  {
   "cell_type": "code",
   "execution_count": null,
   "id": "5eb18ed0",
   "metadata": {
    "scrolled": true
   },
   "outputs": [],
   "source": [
    "plt.figure(figsize =(10,10))\n",
    "plot_confusion_matrix(dm_lr_pipe, x_test_demo, y_test,\n",
    "                     cmap=plt.cm.Blues,normalize='true')\n",
    "\n",
    "plt.xticks(horizontalalignment='right', fontsize='small')\n",
    "plt.show()"
   ]
  },
  {
   "cell_type": "code",
   "execution_count": null,
   "id": "d73417de",
   "metadata": {},
   "outputs": [],
   "source": [
    "residuals = y_train == train_preds\n",
    "\n",
    "print('Number of values correctly predicted:')\n",
    "print(pd.Series(residuals).value_counts())"
   ]
  },
  {
   "cell_type": "code",
   "execution_count": null,
   "id": "79e9019b",
   "metadata": {},
   "outputs": [],
   "source": [
    "residuals = y_test == test_preds\n",
    "\n",
    "print('Number of values correctly predicted:')\n",
    "print(pd.Series(residuals).value_counts())"
   ]
  },
  {
   "cell_type": "markdown",
   "id": "2a2db466",
   "metadata": {},
   "source": [
    "## Numeric Features "
   ]
  },
  {
   "cell_type": "code",
   "execution_count": null,
   "id": "c31c9c25",
   "metadata": {},
   "outputs": [],
   "source": [
    "x_train.info()"
   ]
  },
  {
   "cell_type": "code",
   "execution_count": null,
   "id": "8c8367a6",
   "metadata": {},
   "outputs": [],
   "source": [
    "labels = ['course_length', 'date_registration', \n",
    "          'sum_click', 'mean_score']"
   ]
  },
  {
   "cell_type": "code",
   "execution_count": null,
   "id": "1297fbc5",
   "metadata": {},
   "outputs": [],
   "source": [
    "x_train_num = x_train[labels]\n",
    "x_test_num = x_test[labels]"
   ]
  },
  {
   "cell_type": "code",
   "execution_count": null,
   "id": "208aa3b9",
   "metadata": {},
   "outputs": [],
   "source": [
    "num_rf_pipe = make_pipeline(StandardScaler(with_mean = False),SMOTE(), \n",
    "                           RFC(max_depth = 7, random_state = 2021))"
   ]
  },
  {
   "cell_type": "code",
   "execution_count": null,
   "id": "ffcc70e2",
   "metadata": {},
   "outputs": [],
   "source": [
    "history.report(num_rf_pipe,x_train_num, y_train, 'Random Forest Course Info', \n",
    "               'Random Forest with Course Info Features')"
   ]
  },
  {
   "cell_type": "code",
   "execution_count": null,
   "id": "aaf63ee8",
   "metadata": {},
   "outputs": [],
   "source": [
    "num_rf_pipe.fit(x_train_num, y_train)\n",
    "num_rf_pipe.score(x_test_num, y_test)"
   ]
  },
  {
   "cell_type": "code",
   "execution_count": null,
   "id": "e6a7316f",
   "metadata": {},
   "outputs": [],
   "source": [
    "train_preds = num_rf_pipe.predict(x_train_num)\n",
    "test_preds = num_rf_pipe.predict(x_test_num)"
   ]
  },
  {
   "cell_type": "code",
   "execution_count": null,
   "id": "25f36c63",
   "metadata": {},
   "outputs": [],
   "source": [
    "mf.print_metrics(y_train,train_preds)\n",
    "mf.print_metrics(y_test,test_preds)"
   ]
  },
  {
   "cell_type": "code",
   "execution_count": null,
   "id": "18ae4bb2",
   "metadata": {
    "scrolled": true
   },
   "outputs": [],
   "source": [
    "plt.figure(figsize =(10,10))\n",
    "plot_confusion_matrix(num_rf_pipe, x_test_num, y_test,\n",
    "                     cmap=plt.cm.Blues,normalize='true')\n",
    "\n",
    "plt.xticks(horizontalalignment='right', fontsize='small')\n",
    "plt.show()"
   ]
  },
  {
   "cell_type": "code",
   "execution_count": null,
   "id": "d13a2917",
   "metadata": {},
   "outputs": [],
   "source": [
    "residuals = y_train == train_preds\n",
    "\n",
    "print('Number of values correctly predicted:')\n",
    "print(pd.Series(residuals).value_counts())"
   ]
  },
  {
   "cell_type": "code",
   "execution_count": null,
   "id": "462b2b8f",
   "metadata": {},
   "outputs": [],
   "source": [
    "residuals = y_test == test_preds\n",
    "\n",
    "print('Number of values correctly predicted:')\n",
    "print(pd.Series(residuals).value_counts())"
   ]
  },
  {
   "cell_type": "markdown",
   "id": "b44e2493",
   "metadata": {},
   "source": [
    "## Numeric and Some Demographic Features"
   ]
  },
  {
   "cell_type": "code",
   "execution_count": null,
   "id": "d6cd953b",
   "metadata": {},
   "outputs": [],
   "source": [
    "labels = ['gender', 'highest_education', \n",
    "          'imd_band', 'age_band', 'course_length', \n",
    "          'date_registration', 'sum_click', 'mean_score']"
   ]
  },
  {
   "cell_type": "code",
   "execution_count": null,
   "id": "3e13b344",
   "metadata": {},
   "outputs": [],
   "source": [
    "x_train_both = x_train[labels]\n",
    "x_test_both = x_test[labels]"
   ]
  },
  {
   "cell_type": "code",
   "execution_count": null,
   "id": "45fcdec5",
   "metadata": {},
   "outputs": [],
   "source": [
    "cat_cols = x_train_both.select_dtypes(include='object').columns\n",
    "indices = []\n",
    "for col in cat_cols:\n",
    "    indices.append(x_train_both.columns.get_loc(col))\n",
    "\n",
    "transformer = ColumnTransformer(transformers=[('categorical', \n",
    "                                               OneHotEncoder(handle_unknown = 'ignore'), indices)])"
   ]
  },
  {
   "cell_type": "code",
   "execution_count": null,
   "id": "711d4475",
   "metadata": {},
   "outputs": [],
   "source": [
    "dt_both_pipe = make_pipeline(transformer, StandardScaler(with_mean = False),SMOTE(), \n",
    "                           RFC(max_depth = 7, random_state = 2021))"
   ]
  },
  {
   "cell_type": "code",
   "execution_count": null,
   "id": "17175bcb",
   "metadata": {},
   "outputs": [],
   "source": [
    "history.report(dt_both_pipe,x_train_both, y_train, 'Random Forest Some Demographics ans Numeric', \n",
    "               'Random Forest with Some Demographic and Numeric Features')"
   ]
  },
  {
   "cell_type": "code",
   "execution_count": null,
   "id": "69adf1ab",
   "metadata": {},
   "outputs": [],
   "source": [
    "dt_both_pipe.fit(x_train_both, y_train)\n",
    "dt_both_pipe.score(x_test_both, y_test)"
   ]
  },
  {
   "cell_type": "code",
   "execution_count": null,
   "id": "482fd77c",
   "metadata": {},
   "outputs": [],
   "source": [
    "train_preds = dt_both_pipe.predict(x_train_both)\n",
    "test_preds = dt_both_pipe.predict(x_test_both)"
   ]
  },
  {
   "cell_type": "code",
   "execution_count": null,
   "id": "4bd92bd0",
   "metadata": {},
   "outputs": [],
   "source": [
    "mf.print_metrics(y_train,train_preds)\n",
    "mf.print_metrics(y_test,test_preds)"
   ]
  },
  {
   "cell_type": "code",
   "execution_count": null,
   "id": "98c151a2",
   "metadata": {
    "scrolled": true
   },
   "outputs": [],
   "source": [
    "plt.figure(figsize =(10,10))\n",
    "plot_confusion_matrix(dt_both_pipe, x_test_both, y_test,\n",
    "                     cmap=plt.cm.Blues,normalize='true')\n",
    "\n",
    "plt.xticks(horizontalalignment='right', fontsize='small')\n",
    "plt.show()"
   ]
  },
  {
   "cell_type": "code",
   "execution_count": null,
   "id": "22b630a5",
   "metadata": {},
   "outputs": [],
   "source": [
    "residuals = y_train == train_preds\n",
    "\n",
    "print('Number of values correctly predicted:')\n",
    "print(pd.Series(residuals).value_counts())"
   ]
  },
  {
   "cell_type": "code",
   "execution_count": null,
   "id": "a28d0bba",
   "metadata": {},
   "outputs": [],
   "source": [
    "residuals = y_test == test_preds\n",
    "\n",
    "print('Number of values correctly predicted:')\n",
    "print(pd.Series(residuals).value_counts())"
   ]
  },
  {
   "cell_type": "markdown",
   "id": "316b83f6",
   "metadata": {},
   "source": [
    "## Feature Importance Logistic Regression"
   ]
  },
  {
   "cell_type": "code",
   "execution_count": null,
   "id": "d6aaac58",
   "metadata": {},
   "outputs": [],
   "source": [
    "upsample_pipe[3].coef_"
   ]
  },
  {
   "cell_type": "code",
   "execution_count": null,
   "id": "060fcd71",
   "metadata": {},
   "outputs": [],
   "source": []
  },
  {
   "cell_type": "code",
   "execution_count": null,
   "id": "aba280c7",
   "metadata": {},
   "outputs": [],
   "source": []
  },
  {
   "cell_type": "code",
   "execution_count": null,
   "id": "2086c258",
   "metadata": {},
   "outputs": [],
   "source": []
  },
  {
   "cell_type": "code",
   "execution_count": null,
   "id": "75a555ee",
   "metadata": {},
   "outputs": [],
   "source": []
  },
  {
   "cell_type": "code",
   "execution_count": null,
   "id": "15974ad9",
   "metadata": {},
   "outputs": [],
   "source": []
  },
  {
   "cell_type": "code",
   "execution_count": null,
   "id": "51464d8e",
   "metadata": {},
   "outputs": [],
   "source": []
  },
  {
   "cell_type": "code",
   "execution_count": null,
   "id": "c2c185c0",
   "metadata": {},
   "outputs": [],
   "source": []
  }
 ],
 "metadata": {
  "kernelspec": {
   "display_name": "Python 3 (ipykernel)",
   "language": "python",
   "name": "python3"
  },
  "language_info": {
   "codemirror_mode": {
    "name": "ipython",
    "version": 3
   },
   "file_extension": ".py",
   "mimetype": "text/x-python",
   "name": "python",
   "nbconvert_exporter": "python",
   "pygments_lexer": "ipython3",
   "version": "3.9.7"
  }
 },
 "nbformat": 4,
 "nbformat_minor": 5
}
