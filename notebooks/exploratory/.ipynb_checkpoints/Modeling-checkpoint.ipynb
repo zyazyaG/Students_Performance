{
 "cells": [
  {
   "cell_type": "markdown",
   "id": "2a2dc8f2",
   "metadata": {},
   "source": [
    "# Modeling\n",
    "\n",
    "In this notebook I will build **models to predict the student course outcome.** In previous notebook **EDA** I've performed the **exploratory analysis and built some visualizations**. At the end, the new dataset was stored as \"final_data.csv\" file in data folder."
   ]
  },
  {
   "cell_type": "markdown",
   "id": "520f0e30",
   "metadata": {},
   "source": [
    "## Goal of the Modeling\n",
    "The main goal of the project is to be able to predict the outcome of the students in the course. I will build different algorithms of **multiclass classification models and evaluate their performance**. At the end of the notebook I will choose a model that has the **most appropriate parameters and performed the best.**"
   ]
  },
  {
   "cell_type": "markdown",
   "id": "28385b8a",
   "metadata": {},
   "source": [
    "## Import Packages\n",
    "\n",
    "Import standard libraries and necessary packages for transformation, modeling and evaluation. In addition, import user defined functions and classess."
   ]
  },
  {
   "cell_type": "code",
   "execution_count": 1,
   "id": "6129d9d4",
   "metadata": {},
   "outputs": [],
   "source": [
    "import pandas as pd\n",
    "import numpy as np\n",
    "\n",
    "import seaborn as sns\n",
    "import matplotlib.pyplot as plt\n",
    "%matplotlib inline\n",
    "\n",
    "from imblearn.over_sampling import SMOTE\n",
    "from imblearn.pipeline import make_pipeline\n",
    "\n",
    "from sklearn.preprocessing import OneHotEncoder, StandardScaler\n",
    "from sklearn.compose import ColumnTransformer\n",
    "\n",
    "from sklearn.model_selection import train_test_split, cross_val_score, KFold, GridSearchCV\n",
    "\n",
    "from sklearn.linear_model import LogisticRegression as LR\n",
    "from sklearn.neighbors import KNeighborsClassifier as KNN\n",
    "from sklearn.tree import DecisionTreeClassifier as DT\n",
    "from sklearn.ensemble import RandomForestClassifier as RFC, GradientBoostingClassifier as GBC\n",
    "from sklearn.cluster import KMeans\n",
    "from xgboost import XGBClassifier as XGB\n",
    "\n",
    "\n",
    "from sklearn.metrics import plot_confusion_matrix\n",
    "from sklearn.metrics import precision_score, recall_score, accuracy_score, f1_score, roc_curve, auc\n",
    "from sklearn.inspection import permutation_importance\n",
    "\n",
    "import warnings\n",
    "\n",
    "# Import additional files with user-defined statistical functions\n",
    "import sys\n",
    "import os\n",
    "\n",
    "module_path = os.path.abspath(os.path.join('../../src'))\n",
    "if module_path not in sys.path:\n",
    "    sys.path.append(module_path)\n",
    "    \n",
    "import explore_data as ed \n",
    "import model_functions as mf\n",
    "import model_history as mh"
   ]
  },
  {
   "cell_type": "markdown",
   "id": "9803012d",
   "metadata": {},
   "source": [
    "* Set notebook's visual parameters"
   ]
  },
  {
   "cell_type": "code",
   "execution_count": 2,
   "id": "4d7e14ac",
   "metadata": {},
   "outputs": [],
   "source": [
    "pd.options.display.max_rows = 500\n",
    "pd.options.display.max_columns = 100\n",
    "\n",
    "plt.style.use('seaborn-dark')\n",
    "sns.set_theme('talk')"
   ]
  },
  {
   "cell_type": "markdown",
   "id": "60231e58",
   "metadata": {},
   "source": [
    "## Upload Dataset"
   ]
  },
  {
   "cell_type": "markdown",
   "id": "ceb83d47",
   "metadata": {},
   "source": [
    "Upload **final_data.csv** from data folder, keep **id_student** feature **as object type.**"
   ]
  },
  {
   "cell_type": "code",
   "execution_count": 3,
   "id": "8e7e4962",
   "metadata": {},
   "outputs": [],
   "source": [
    "df = pd.read_csv('../../data/final_data.csv', dtype={\"id_student\": str})"
   ]
  },
  {
   "cell_type": "code",
   "execution_count": 4,
   "id": "51d20f33",
   "metadata": {},
   "outputs": [
    {
     "name": "stdout",
     "output_type": "stream",
     "text": [
      "Lenght of Dataset: 20224\n",
      "                            missing_values_% Data_type\n",
      "module_presentation_length               0.0     int64\n",
      "code_module                              0.0    object\n",
      "code_presentation                        0.0    object\n",
      "id_student                               0.0    object\n",
      "date_registration                        0.0     int64\n",
      "sum_click                                0.0     int64\n",
      "gender                                   0.0    object\n",
      "region                                   0.0    object\n",
      "highest_education                        0.0    object\n",
      "imd_band                                 0.0    object\n",
      "age_band                                 0.0    object\n",
      "num_of_prev_attempts                     0.0     int64\n",
      "studied_credits                          0.0     int64\n",
      "disability                               0.0    object\n",
      "final_result                             0.0    object\n",
      "mean_score                               0.0   float64\n"
     ]
    }
   ],
   "source": [
    "ed.show_info(df)"
   ]
  },
  {
   "cell_type": "markdown",
   "id": "01c53b61",
   "metadata": {},
   "source": [
    "* I will **drop** columns that are not relevant to modeling, such that **id_student and code_presentation**."
   ]
  },
  {
   "cell_type": "code",
   "execution_count": 5,
   "id": "ead74179",
   "metadata": {},
   "outputs": [],
   "source": [
    "df.drop(columns = ['id_student', 'code_presentation'], inplace = True)"
   ]
  },
  {
   "cell_type": "code",
   "execution_count": 6,
   "id": "032b3e73",
   "metadata": {},
   "outputs": [
    {
     "data": {
      "text/html": [
       "<div>\n",
       "<style scoped>\n",
       "    .dataframe tbody tr th:only-of-type {\n",
       "        vertical-align: middle;\n",
       "    }\n",
       "\n",
       "    .dataframe tbody tr th {\n",
       "        vertical-align: top;\n",
       "    }\n",
       "\n",
       "    .dataframe thead th {\n",
       "        text-align: right;\n",
       "    }\n",
       "</style>\n",
       "<table border=\"1\" class=\"dataframe\">\n",
       "  <thead>\n",
       "    <tr style=\"text-align: right;\">\n",
       "      <th></th>\n",
       "      <th>course_length</th>\n",
       "      <th>code_module</th>\n",
       "      <th>date_registration</th>\n",
       "      <th>sum_click</th>\n",
       "      <th>gender</th>\n",
       "      <th>region</th>\n",
       "      <th>highest_education</th>\n",
       "      <th>imd_band</th>\n",
       "      <th>age_band</th>\n",
       "      <th>attempts</th>\n",
       "      <th>studied_credits</th>\n",
       "      <th>disability</th>\n",
       "      <th>final_result</th>\n",
       "      <th>mean_score</th>\n",
       "    </tr>\n",
       "  </thead>\n",
       "  <tbody>\n",
       "    <tr>\n",
       "      <th>0</th>\n",
       "      <td>262</td>\n",
       "      <td>DDD</td>\n",
       "      <td>88</td>\n",
       "      <td>458</td>\n",
       "      <td>M</td>\n",
       "      <td>North Western Region</td>\n",
       "      <td>Lower Than A Level</td>\n",
       "      <td>0-10%</td>\n",
       "      <td>0-35</td>\n",
       "      <td>0</td>\n",
       "      <td>60</td>\n",
       "      <td>N</td>\n",
       "      <td>Pass</td>\n",
       "      <td>86.50</td>\n",
       "    </tr>\n",
       "    <tr>\n",
       "      <th>1</th>\n",
       "      <td>262</td>\n",
       "      <td>DDD</td>\n",
       "      <td>136</td>\n",
       "      <td>1107</td>\n",
       "      <td>M</td>\n",
       "      <td>Scotland</td>\n",
       "      <td>HE Qualification</td>\n",
       "      <td>80-90%</td>\n",
       "      <td>55&lt;=</td>\n",
       "      <td>0</td>\n",
       "      <td>60</td>\n",
       "      <td>N</td>\n",
       "      <td>Pass</td>\n",
       "      <td>80.00</td>\n",
       "    </tr>\n",
       "    <tr>\n",
       "      <th>2</th>\n",
       "      <td>262</td>\n",
       "      <td>DDD</td>\n",
       "      <td>107</td>\n",
       "      <td>663</td>\n",
       "      <td>M</td>\n",
       "      <td>West Midlands Region</td>\n",
       "      <td>A Level or Equivalent</td>\n",
       "      <td>90-100%</td>\n",
       "      <td>0-35</td>\n",
       "      <td>0</td>\n",
       "      <td>60</td>\n",
       "      <td>N</td>\n",
       "      <td>Pass</td>\n",
       "      <td>86.00</td>\n",
       "    </tr>\n",
       "    <tr>\n",
       "      <th>3</th>\n",
       "      <td>262</td>\n",
       "      <td>DDD</td>\n",
       "      <td>99</td>\n",
       "      <td>729</td>\n",
       "      <td>M</td>\n",
       "      <td>East Anglian Region</td>\n",
       "      <td>A Level or Equivalent</td>\n",
       "      <td>80-90%</td>\n",
       "      <td>0-35</td>\n",
       "      <td>0</td>\n",
       "      <td>90</td>\n",
       "      <td>N</td>\n",
       "      <td>Fail</td>\n",
       "      <td>65.25</td>\n",
       "    </tr>\n",
       "    <tr>\n",
       "      <th>4</th>\n",
       "      <td>262</td>\n",
       "      <td>DDD</td>\n",
       "      <td>143</td>\n",
       "      <td>453</td>\n",
       "      <td>F</td>\n",
       "      <td>South Region</td>\n",
       "      <td>A Level or Equivalent</td>\n",
       "      <td>40-50%</td>\n",
       "      <td>0-35</td>\n",
       "      <td>0</td>\n",
       "      <td>60</td>\n",
       "      <td>Y</td>\n",
       "      <td>Pass</td>\n",
       "      <td>87.50</td>\n",
       "    </tr>\n",
       "  </tbody>\n",
       "</table>\n",
       "</div>"
      ],
      "text/plain": [
       "   course_length code_module  date_registration  sum_click gender  \\\n",
       "0            262         DDD                 88        458      M   \n",
       "1            262         DDD                136       1107      M   \n",
       "2            262         DDD                107        663      M   \n",
       "3            262         DDD                 99        729      M   \n",
       "4            262         DDD                143        453      F   \n",
       "\n",
       "                 region      highest_education imd_band age_band  attempts  \\\n",
       "0  North Western Region     Lower Than A Level    0-10%     0-35         0   \n",
       "1              Scotland       HE Qualification   80-90%     55<=         0   \n",
       "2  West Midlands Region  A Level or Equivalent  90-100%     0-35         0   \n",
       "3   East Anglian Region  A Level or Equivalent   80-90%     0-35         0   \n",
       "4          South Region  A Level or Equivalent   40-50%     0-35         0   \n",
       "\n",
       "   studied_credits disability final_result  mean_score  \n",
       "0               60          N         Pass       86.50  \n",
       "1               60          N         Pass       80.00  \n",
       "2               60          N         Pass       86.00  \n",
       "3               90          N         Fail       65.25  \n",
       "4               60          Y         Pass       87.50  "
      ]
     },
     "execution_count": 6,
     "metadata": {},
     "output_type": "execute_result"
    }
   ],
   "source": [
    "df.rename(columns = {'module_presentation_length': 'course_length', \n",
    "                     'num_of_prev_attempts': 'attempts'}, inplace = True)\n",
    "df.head()"
   ]
  },
  {
   "cell_type": "markdown",
   "id": "2890392d",
   "metadata": {},
   "source": [
    "## Features\n",
    "\n",
    "* **course_length:** length of the code_module in days.\n",
    "* **code_module:** three letter id of the course.\n",
    "* **date_registration:** number of days student registered before the course beginning.\n",
    "* **sum_click:** sum of click student made on Vle for given course.\n",
    "* **gender:** gender of the student.\n",
    "* **region:** region of student location in UK.\n",
    "* **highest_education:** education level of the student.\n",
    "* **imd_band:** indices of multiple deprivation - a measure of economic status.\n",
    "* **age_band:** age category of the student.\n",
    "* **attempts:** number of times the student has attempted the class.\n",
    "* **disability:** disability status of the student.\n",
    "* **studied credits:** number of credits student acquired by the begginning of the course.\n",
    "* **mean_score:** The student's mean assessment score.\n"
   ]
  },
  {
   "cell_type": "markdown",
   "id": "726c95d8",
   "metadata": {},
   "source": [
    "### Binarize Classes"
   ]
  },
  {
   "cell_type": "markdown",
   "id": "13929485",
   "metadata": {},
   "source": [
    "* For the purpose of modeling, I will binarize the target labels, such that Fail/Withdraw - 1, and Pass/Distinc - 0."
   ]
  },
  {
   "cell_type": "code",
   "execution_count": 7,
   "id": "896d71dc",
   "metadata": {},
   "outputs": [
    {
     "data": {
      "text/plain": [
       "0    14628\n",
       "1     5596\n",
       "Name: final_result, dtype: int64"
      ]
     },
     "execution_count": 7,
     "metadata": {},
     "output_type": "execute_result"
    }
   ],
   "source": [
    "df['final_result'] = df['final_result'].apply(lambda x: 0 if ('Pass' in x or 'Distinct' in x ) else 1)\n",
    "df['final_result'].value_counts()"
   ]
  },
  {
   "cell_type": "markdown",
   "id": "0d5d6563",
   "metadata": {},
   "source": [
    "* Classes are imbalanced."
   ]
  },
  {
   "cell_type": "code",
   "execution_count": 8,
   "id": "ad640e84",
   "metadata": {},
   "outputs": [
    {
     "name": "stdout",
     "output_type": "stream",
     "text": [
      "<class 'pandas.core.frame.DataFrame'>\n",
      "RangeIndex: 20224 entries, 0 to 20223\n",
      "Data columns (total 14 columns):\n",
      " #   Column             Non-Null Count  Dtype  \n",
      "---  ------             --------------  -----  \n",
      " 0   course_length      20224 non-null  int64  \n",
      " 1   code_module        20224 non-null  object \n",
      " 2   date_registration  20224 non-null  int64  \n",
      " 3   sum_click          20224 non-null  int64  \n",
      " 4   gender             20224 non-null  object \n",
      " 5   region             20224 non-null  object \n",
      " 6   highest_education  20224 non-null  object \n",
      " 7   imd_band           20224 non-null  object \n",
      " 8   age_band           20224 non-null  object \n",
      " 9   attempts           20224 non-null  int64  \n",
      " 10  studied_credits    20224 non-null  int64  \n",
      " 11  disability         20224 non-null  object \n",
      " 12  final_result       20224 non-null  int64  \n",
      " 13  mean_score         20224 non-null  float64\n",
      "dtypes: float64(1), int64(6), object(7)\n",
      "memory usage: 2.2+ MB\n"
     ]
    }
   ],
   "source": [
    "df.info()"
   ]
  },
  {
   "cell_type": "markdown",
   "id": "a4818263",
   "metadata": {},
   "source": [
    "## Feature Correlation\n",
    "\n",
    "Explore how correlated numeric features are."
   ]
  },
  {
   "cell_type": "code",
   "execution_count": 9,
   "id": "70511584",
   "metadata": {},
   "outputs": [
    {
     "data": {
      "image/png": "[encoded data removed]",
      "text/plain": [
       "<Figure size 1080x720 with 2 Axes>"
      ]
     },
     "metadata": {},
     "output_type": "display_data"
    }
   ],
   "source": [
    "corr = df.corr(method = 'pearson')\n",
    "\n",
    "mask = np.triu(np.ones_like(corr, dtype='bool'))\n",
    "\n",
    "with sns.axes_style(\"white\"):\n",
    "    f,ax = plt.subplots(figsize = (15,10))\n",
    "    ax = sns.heatmap(corr, mask = mask, vmax = 0.3, square = True)"
   ]
  },
  {
   "cell_type": "code",
   "execution_count": 10,
   "id": "6c3182d7",
   "metadata": {},
   "outputs": [
    {
     "name": "stdout",
     "output_type": "stream",
     "text": [
      "final_result         1.000000\n",
      "attempts             0.132633\n",
      "studied_credits      0.044604\n",
      "date_registration   -0.042975\n",
      "course_length       -0.072593\n",
      "sum_click           -0.220464\n",
      "mean_score          -0.402654\n",
      "Name: final_result, dtype: float64\n"
     ]
    }
   ],
   "source": [
    "corr_matrix = df.corr()\n",
    "corr_mat = corr_matrix[\"final_result\"].sort_values(ascending=False)\n",
    "print(corr_mat)"
   ]
  },
  {
   "cell_type": "markdown",
   "id": "ea961920",
   "metadata": {},
   "source": [
    "### Train-Test Split"
   ]
  },
  {
   "cell_type": "markdown",
   "id": "6ac6e154",
   "metadata": {},
   "source": [
    "To prevent models from **overfitting** and to be able to **accurately evaluate model** I will split the data to **X as a features and y as a target variable, and split data into three sets: train, test and holdout.**"
   ]
  },
  {
   "cell_type": "code",
   "execution_count": 11,
   "id": "d10a1ac8",
   "metadata": {},
   "outputs": [],
   "source": [
    "X = df.drop(\"final_result\", axis=1)\n",
    "y = df['final_result']"
   ]
  },
  {
   "cell_type": "markdown",
   "id": "282dda82",
   "metadata": {},
   "source": [
    "Now, split the data to **train and holdout sets** and then **split the train set into test and train sets too.**"
   ]
  },
  {
   "cell_type": "code",
   "execution_count": 12,
   "id": "2813eed0",
   "metadata": {},
   "outputs": [],
   "source": [
    "x_all, x_hold, y_all, y_hold = train_test_split(X, y, train_size = 0.80, random_state=2021)\n",
    "x_train, x_test, y_train, y_test = train_test_split(x_all, y_all, train_size = 0.75,random_state=2021)"
   ]
  },
  {
   "cell_type": "markdown",
   "id": "ff0da89e",
   "metadata": {},
   "source": [
    "### Data Imbalance"
   ]
  },
  {
   "cell_type": "markdown",
   "id": "853e1ab3",
   "metadata": {},
   "source": [
    "I will check how balanced my train data is based on target feature"
   ]
  },
  {
   "cell_type": "code",
   "execution_count": 13,
   "id": "7a1a494b",
   "metadata": {},
   "outputs": [
    {
     "data": {
      "text/plain": [
       "0    0.720949\n",
       "1    0.279051\n",
       "Name: final_result, dtype: float64"
      ]
     },
     "execution_count": 13,
     "metadata": {},
     "output_type": "execute_result"
    }
   ],
   "source": [
    "pd.Series(y_train).value_counts(normalize=True)"
   ]
  },
  {
   "cell_type": "markdown",
   "id": "7d835d68",
   "metadata": {},
   "source": [
    "* It is clear that train set is imbalanced. I will build first model with this data and later on try to balance it using SMOTE."
   ]
  },
  {
   "cell_type": "markdown",
   "id": "68488695",
   "metadata": {},
   "source": [
    "## Baseline Model - Logistic Regression"
   ]
  },
  {
   "cell_type": "markdown",
   "id": "0203b91f",
   "metadata": {},
   "source": [
    "### ColumnTransformer for Categorical Features\n",
    "\n",
    "Before I start any modeling, I will use **ColumnTransformer and OneHotEncode** all categorical features of the dataframe:"
   ]
  },
  {
   "cell_type": "code",
   "execution_count": 14,
   "id": "09f970e1",
   "metadata": {},
   "outputs": [
    {
     "data": {
      "text/plain": [
       "[1, 4, 5, 6, 7, 8, 11]"
      ]
     },
     "execution_count": 14,
     "metadata": {},
     "output_type": "execute_result"
    }
   ],
   "source": [
    "cat_cols = x_train.select_dtypes(include='object').columns\n",
    "indices = []\n",
    "for col in cat_cols:\n",
    "    indices.append(x_train.columns.get_loc(col))\n",
    "indices"
   ]
  },
  {
   "cell_type": "code",
   "execution_count": 15,
   "id": "95dc517b",
   "metadata": {},
   "outputs": [],
   "source": [
    "transformer = ColumnTransformer(transformers=[('categorical', \n",
    "                                               OneHotEncoder(handle_unknown = 'ignore'), indices)], \n",
    "                                remainder = 'passthrough')"
   ]
  },
  {
   "cell_type": "markdown",
   "id": "e72f3607",
   "metadata": {},
   "source": [
    "### Build Logistic Regression Pipeline"
   ]
  },
  {
   "cell_type": "markdown",
   "id": "5f0424bc",
   "metadata": {},
   "source": [
    "* The pipeline will apply following transformers: ColumnTransformer, StandardScaler."
   ]
  },
  {
   "cell_type": "code",
   "execution_count": 16,
   "id": "bfd2a05d",
   "metadata": {},
   "outputs": [],
   "source": [
    "base_model_pipe = make_pipeline(transformer, StandardScaler(with_mean = False), \n",
    "                               LR(C=0.01, random_state=2021, max_iter = 5000))\n",
    "\n",
    "base_model_pipe.fit(x_train, y_train)\n",
    "base_model_pipe.score(x_test, y_test)\n",
    "\n",
    "history = mh.ModelHistory()"
   ]
  },
  {
   "cell_type": "code",
   "execution_count": 17,
   "id": "2be247c4",
   "metadata": {},
   "outputs": [
    {
     "name": "stdout",
     "output_type": "stream",
     "text": [
      "Average Accuracy Score: 0.7804530409851539\n",
      "Average Recall Score: 0.3983748088897073\n",
      "Average Precision Score: 0.6819532673637891\n",
      "Average F1 Score: 0.5024905647920963\n"
     ]
    }
   ],
   "source": [
    "history.report(base_model_pipe,x_train, y_train, 'Logistic Regression', \n",
    "               'Regression with All Features and Imbalanced Data')"
   ]
  },
  {
   "cell_type": "markdown",
   "id": "d9f3cd31",
   "metadata": {},
   "source": [
    "* **Get predictions for both train and test splits.**"
   ]
  },
  {
   "cell_type": "code",
   "execution_count": 18,
   "id": "56d6fd33",
   "metadata": {},
   "outputs": [],
   "source": [
    "train_preds = base_model_pipe.predict(x_train)\n",
    "test_preds = base_model_pipe.predict(x_test)"
   ]
  },
  {
   "cell_type": "markdown",
   "id": "861fc16c",
   "metadata": {},
   "source": [
    "* **Print out evaluation metrics by calling user defined function**"
   ]
  },
  {
   "cell_type": "code",
   "execution_count": 19,
   "id": "1f67d6a4",
   "metadata": {},
   "outputs": [
    {
     "name": "stdout",
     "output_type": "stream",
     "text": [
      "Precision Score: 0.6864321608040201\n",
      "Recall Score: 0.40342587123449497\n",
      "Accuracy Score: 0.7820998846217241\n",
      "F1 Score: 0.5081845238095237\n",
      "\n",
      "\n",
      "Precision Score: 0.6597325408618128\n",
      "Recall Score: 0.3918799646954987\n",
      "Accuracy Score: 0.773053152039555\n",
      "F1 Score: 0.49169435215946844\n",
      "\n",
      "\n"
     ]
    }
   ],
   "source": [
    "mf.print_metrics(y_train,train_preds)\n",
    "mf.print_metrics(y_test,test_preds)"
   ]
  },
  {
   "cell_type": "markdown",
   "id": "c43c8982",
   "metadata": {},
   "source": [
    "* **Confusion Matrix**"
   ]
  },
  {
   "cell_type": "code",
   "execution_count": 20,
   "id": "939bccb5",
   "metadata": {
    "scrolled": true
   },
   "outputs": [
    {
     "data": {
      "text/plain": [
       "<Figure size 720x720 with 0 Axes>"
      ]
     },
     "metadata": {},
     "output_type": "display_data"
    },
    {
     "data": {
      "image/png": "[encoded data removed]",
      "text/plain": [
       "<Figure size 432x288 with 2 Axes>"
      ]
     },
     "metadata": {},
     "output_type": "display_data"
    }
   ],
   "source": [
    "mf.confusion_mtx(base_model_pipe, x_test, y_test)\n"
   ]
  },
  {
   "cell_type": "code",
   "execution_count": 21,
   "id": "bd182700",
   "metadata": {},
   "outputs": [
    {
     "name": "stdout",
     "output_type": "stream",
     "text": [
      "Number of values correctly predicted:\n",
      "True     9490\n",
      "False    2644\n",
      "Name: final_result, dtype: int64\n"
     ]
    }
   ],
   "source": [
    "residuals = y_train == train_preds\n",
    "\n",
    "print('Number of values correctly predicted:')\n",
    "print(pd.Series(residuals).value_counts())"
   ]
  },
  {
   "cell_type": "code",
   "execution_count": 22,
   "id": "c7604496",
   "metadata": {},
   "outputs": [
    {
     "name": "stdout",
     "output_type": "stream",
     "text": [
      "Number of values correctly predicted:\n",
      "True     3127\n",
      "False     918\n",
      "Name: final_result, dtype: int64\n"
     ]
    }
   ],
   "source": [
    "residuals = y_test == test_preds\n",
    "\n",
    "print('Number of values correctly predicted:')\n",
    "print(pd.Series(residuals).value_counts())"
   ]
  },
  {
   "cell_type": "markdown",
   "id": "e766e05d",
   "metadata": {},
   "source": [
    "**Model Results:**\n",
    "* Model is overfitting train set. \n",
    "* From confusion matrix it is clear that model predicting most of the outcomes as \"Pass\", due to class imbalance\n",
    "* About 1/3 of outcomes of test data were predicted falsely based on residuals"
   ]
  },
  {
   "cell_type": "markdown",
   "id": "9fc517bf",
   "metadata": {},
   "source": [
    "## Logistic Regression with Upsampled Data\n",
    "\n",
    "Since the classes of the target are imbalanced, I will use **SMOTE()** in the pipeline **to upsample data.**"
   ]
  },
  {
   "cell_type": "code",
   "execution_count": 23,
   "id": "226c1c80",
   "metadata": {},
   "outputs": [
    {
     "name": "stdout",
     "output_type": "stream",
     "text": [
      "Average Accuracy Score: 0.733558470767672\n",
      "Average Recall Score: 0.7105936715774724\n",
      "Average Precision Score: 0.5163829966986826\n",
      "Average F1 Score: 0.5979641622955632\n"
     ]
    }
   ],
   "source": [
    "upsample_pipe = make_pipeline(transformer, StandardScaler(with_mean = False), \n",
    "                              SMOTE(random_state = 2021), \n",
    "                              LR(C=0.01, random_state=2021, max_iter = 5000))\n",
    "\n",
    "upsample_pipe.fit(x_train, y_train)\n",
    "\n",
    "history.report(upsample_pipe,x_train, y_train, 'Logistic Regression', \n",
    "               'Logistic Regression with Upsampled Data')"
   ]
  },
  {
   "cell_type": "markdown",
   "id": "fd8f83e0",
   "metadata": {},
   "source": [
    "* **Get predicted values for train and test splits**"
   ]
  },
  {
   "cell_type": "code",
   "execution_count": 24,
   "id": "dd09353f",
   "metadata": {},
   "outputs": [],
   "source": [
    "train_preds = upsample_pipe.predict(x_train)\n",
    "test_preds = upsample_pipe.predict(x_test)"
   ]
  },
  {
   "cell_type": "markdown",
   "id": "c0177d0e",
   "metadata": {},
   "source": [
    "* **Evaluation Metrics**"
   ]
  },
  {
   "cell_type": "code",
   "execution_count": 25,
   "id": "7a5bc3f9",
   "metadata": {},
   "outputs": [
    {
     "name": "stdout",
     "output_type": "stream",
     "text": [
      "Precision Score: 0.5222724338282763\n",
      "Recall Score: 0.716774955699941\n",
      "Accuracy Score: 0.7380089006098566\n",
      "F1 Score: 0.6042574380679696\n",
      "\n",
      "\n",
      "Precision Score: 0.5218811234487263\n",
      "Recall Score: 0.705207413945278\n",
      "Accuracy Score: 0.7364647713226206\n",
      "F1 Score: 0.5998498498498498\n",
      "\n",
      "\n"
     ]
    }
   ],
   "source": [
    "mf.print_metrics(y_train,train_preds)\n",
    "mf.print_metrics(y_test,test_preds)"
   ]
  },
  {
   "cell_type": "markdown",
   "id": "6a1bee65",
   "metadata": {},
   "source": [
    "* **Confusion Matrix**"
   ]
  },
  {
   "cell_type": "code",
   "execution_count": 26,
   "id": "0d2990d3",
   "metadata": {
    "scrolled": true
   },
   "outputs": [
    {
     "data": {
      "text/plain": [
       "<Figure size 720x720 with 0 Axes>"
      ]
     },
     "metadata": {},
     "output_type": "display_data"
    },
    {
     "data": {
      "image/png": "[encoded data removed]",
      "text/plain": [
       "<Figure size 432x288 with 2 Axes>"
      ]
     },
     "metadata": {},
     "output_type": "display_data"
    }
   ],
   "source": [
    "mf.confusion_mtx(upsample_pipe, x_test, y_test)"
   ]
  },
  {
   "cell_type": "code",
   "execution_count": 27,
   "id": "08e62025",
   "metadata": {},
   "outputs": [
    {
     "name": "stdout",
     "output_type": "stream",
     "text": [
      "Number of values correctly predicted:\n",
      "True     8955\n",
      "False    3179\n",
      "Name: final_result, dtype: int64\n"
     ]
    }
   ],
   "source": [
    "residuals = y_train == train_preds\n",
    "\n",
    "print('Number of values correctly predicted:')\n",
    "print(pd.Series(residuals).value_counts())"
   ]
  },
  {
   "cell_type": "code",
   "execution_count": 28,
   "id": "8fd7bd4b",
   "metadata": {},
   "outputs": [
    {
     "name": "stdout",
     "output_type": "stream",
     "text": [
      "Number of values correctly predicted:\n",
      "True     2979\n",
      "False    1066\n",
      "Name: final_result, dtype: int64\n"
     ]
    }
   ],
   "source": [
    "residuals = y_test == test_preds\n",
    "\n",
    "print('Number of values correctly predicted:')\n",
    "print(pd.Series(residuals).value_counts())"
   ]
  },
  {
   "cell_type": "markdown",
   "id": "3f571fa5",
   "metadata": {},
   "source": [
    "**Model Results:**\n",
    "\n",
    "* Upsampled model performed better than imbalanced data in terms of evaluation metrics - the recall score got higher\n",
    "* The confusion matrix shows better performance in term of high diagonal values.\n",
    "* The value of false negatives went down"
   ]
  },
  {
   "cell_type": "markdown",
   "id": "c648acb9",
   "metadata": {},
   "source": [
    "## Grid Search for C Value"
   ]
  },
  {
   "cell_type": "code",
   "execution_count": 29,
   "id": "80cf597c",
   "metadata": {},
   "outputs": [
    {
     "name": "stdout",
     "output_type": "stream",
     "text": [
      "Best C: 1.0\n"
     ]
    }
   ],
   "source": [
    "C = [0.01, 0.05, 0.1, 0.2, 0.3, 0.4, 0.5, 0.6, 0.7, 0.8, 0.9, 1.0]\n",
    "\n",
    "parameters = dict(logisticregression__C=C)\n",
    "\n",
    "clf_GS = GridSearchCV(upsample_pipe, parameters)\n",
    "\n",
    "clf_GS.fit(x_train, y_train)\n",
    "\n",
    "\n",
    "print('Best C:', clf_GS.best_estimator_.get_params()['logisticregression__C'])"
   ]
  },
  {
   "cell_type": "code",
   "execution_count": 30,
   "id": "86e38515",
   "metadata": {},
   "outputs": [
    {
     "data": {
      "text/plain": [
       "Pipeline(steps=[('columntransformer',\n",
       "                 ColumnTransformer(remainder='passthrough',\n",
       "                                   transformers=[('categorical',\n",
       "                                                  OneHotEncoder(handle_unknown='ignore'),\n",
       "                                                  [1, 4, 5, 6, 7, 8, 11])])),\n",
       "                ('standardscaler', StandardScaler(with_mean=False)),\n",
       "                ('smote', SMOTE()),\n",
       "                ('logisticregression',\n",
       "                 LogisticRegression(max_iter=5000, random_state=2021))])"
      ]
     },
     "execution_count": 30,
     "metadata": {},
     "output_type": "execute_result"
    }
   ],
   "source": [
    "lr_best_c_pipe = make_pipeline(transformer, StandardScaler(with_mean = False), SMOTE(),\n",
    "                              LR(C=clf_GS.best_estimator_.get_params()['logisticregression__C'],\n",
    "                                                 random_state=2021, max_iter = 5000))\n",
    "lr_best_c_pipe.fit(x_train, y_train)"
   ]
  },
  {
   "cell_type": "code",
   "execution_count": 31,
   "id": "b940746a",
   "metadata": {},
   "outputs": [
    {
     "name": "stdout",
     "output_type": "stream",
     "text": [
      "Average Accuracy Score: 0.733393250766341\n",
      "Average Recall Score: 0.7093721828964805\n",
      "Average Precision Score: 0.5161782585200687\n",
      "Average F1 Score: 0.5974427025086334\n"
     ]
    }
   ],
   "source": [
    "history.report(lr_best_c_pipe,x_train, y_train, 'Logistic Regression', \n",
    "               'Regression with All Features and Best C - Value')"
   ]
  },
  {
   "cell_type": "code",
   "execution_count": 32,
   "id": "63cfaa60",
   "metadata": {},
   "outputs": [],
   "source": [
    "train_preds = lr_best_c_pipe.predict(x_train)\n",
    "test_preds = lr_best_c_pipe.predict(x_test)"
   ]
  },
  {
   "cell_type": "code",
   "execution_count": 33,
   "id": "ac3faf34",
   "metadata": {},
   "outputs": [
    {
     "name": "stdout",
     "output_type": "stream",
     "text": [
      "Precision Score: 0.521244635193133\n",
      "Recall Score: 0.7173656231541642\n",
      "Accuracy Score: 0.7372671831218065\n",
      "F1 Score: 0.6037782749192144\n",
      "\n",
      "\n",
      "Precision Score: 0.5197666882696047\n",
      "Recall Score: 0.707855251544572\n",
      "Accuracy Score: 0.734981458590853\n",
      "F1 Score: 0.5994020926756353\n",
      "\n",
      "\n"
     ]
    }
   ],
   "source": [
    "mf.print_metrics(y_train,train_preds)\n",
    "mf.print_metrics(y_test,test_preds)"
   ]
  },
  {
   "cell_type": "code",
   "execution_count": 34,
   "id": "3b14e7d6",
   "metadata": {
    "scrolled": true
   },
   "outputs": [
    {
     "data": {
      "text/plain": [
       "<Figure size 720x720 with 0 Axes>"
      ]
     },
     "metadata": {},
     "output_type": "display_data"
    },
    {
     "data": {
      "image/png": "[encoded data removed]",
      "text/plain": [
       "<Figure size 432x288 with 2 Axes>"
      ]
     },
     "metadata": {},
     "output_type": "display_data"
    }
   ],
   "source": [
    "mf.confusion_mtx(lr_best_c_pipe, x_test, y_test)"
   ]
  },
  {
   "cell_type": "markdown",
   "id": "e517418b",
   "metadata": {},
   "source": [
    "### Model Results:\n",
    "* Model Performed same as Upsampled Logistic Regression in terms of metrics\n",
    "* Confusion Matrix shows higher value for false negatives"
   ]
  },
  {
   "cell_type": "markdown",
   "id": "832c8dfd",
   "metadata": {},
   "source": [
    "## K Nearest Neighbors"
   ]
  },
  {
   "cell_type": "code",
   "execution_count": 35,
   "id": "56b03402",
   "metadata": {},
   "outputs": [
    {
     "data": {
      "text/plain": [
       "0.6039555006180469"
      ]
     },
     "execution_count": 35,
     "metadata": {},
     "output_type": "execute_result"
    }
   ],
   "source": [
    "knn_pipeline = make_pipeline(transformer, StandardScaler(with_mean = False), \n",
    "                             SMOTE(), KNN())\n",
    "\n",
    "knn_pipeline.fit(x_train, y_train)\n",
    "knn_pipeline.score(x_test, y_test)"
   ]
  },
  {
   "cell_type": "code",
   "execution_count": 36,
   "id": "8f6dd8ec",
   "metadata": {},
   "outputs": [
    {
     "name": "stdout",
     "output_type": "stream",
     "text": [
      "Average Accuracy Score: 0.6008711908742603\n",
      "Average Recall Score: 0.5816386392238332\n",
      "Average Precision Score: 0.3649189952394559\n",
      "Average F1 Score: 0.4483955064291454\n"
     ]
    }
   ],
   "source": [
    "history.report(knn_pipeline,x_train, y_train, 'KNN - Defaults', \n",
    "               'KNN with All Features')"
   ]
  },
  {
   "cell_type": "markdown",
   "id": "ec5dd257",
   "metadata": {},
   "source": [
    "* **Get predicted values for the train and test splits**"
   ]
  },
  {
   "cell_type": "code",
   "execution_count": 37,
   "id": "50db5fc6",
   "metadata": {},
   "outputs": [],
   "source": [
    "train_preds = knn_pipeline.predict(x_train)\n",
    "test_preds = knn_pipeline.predict(x_test)"
   ]
  },
  {
   "cell_type": "markdown",
   "id": "b4561c9e",
   "metadata": {},
   "source": [
    "* **Evaluation Metrics**"
   ]
  },
  {
   "cell_type": "code",
   "execution_count": 38,
   "id": "e6d2015f",
   "metadata": {},
   "outputs": [
    {
     "name": "stdout",
     "output_type": "stream",
     "text": [
      "Precision Score: 0.5628787878787879\n",
      "Recall Score: 0.8777318369757826\n",
      "Accuracy Score: 0.7756716663919565\n",
      "F1 Score: 0.685898915301177\n",
      "\n",
      "\n",
      "Precision Score: 0.3709411117226197\n",
      "Recall Score: 0.5948808473080318\n",
      "Accuracy Score: 0.6039555006180469\n",
      "F1 Score: 0.4569491525423729\n",
      "\n",
      "\n"
     ]
    }
   ],
   "source": [
    "mf.print_metrics(y_train,train_preds)\n",
    "mf.print_metrics(y_test,test_preds)"
   ]
  },
  {
   "cell_type": "markdown",
   "id": "e8c4389a",
   "metadata": {},
   "source": [
    "* **Confusion Matrix**"
   ]
  },
  {
   "cell_type": "code",
   "execution_count": 39,
   "id": "79e1968e",
   "metadata": {
    "scrolled": true
   },
   "outputs": [
    {
     "data": {
      "text/plain": [
       "<Figure size 720x720 with 0 Axes>"
      ]
     },
     "metadata": {},
     "output_type": "display_data"
    },
    {
     "data": {
      "image/png": "[encoded data removed]",
      "text/plain": [
       "<Figure size 432x288 with 2 Axes>"
      ]
     },
     "metadata": {},
     "output_type": "display_data"
    }
   ],
   "source": [
    "mf.confusion_mtx(knn_pipeline, x_test, y_test)"
   ]
  },
  {
   "cell_type": "code",
   "execution_count": 40,
   "id": "20512dec",
   "metadata": {},
   "outputs": [
    {
     "name": "stdout",
     "output_type": "stream",
     "text": [
      "Number of values correctly predicted:\n",
      "True     9412\n",
      "False    2722\n",
      "Name: final_result, dtype: int64\n"
     ]
    }
   ],
   "source": [
    "residuals = y_train == train_preds\n",
    "\n",
    "print('Number of values correctly predicted:')\n",
    "print(pd.Series(residuals).value_counts())"
   ]
  },
  {
   "cell_type": "code",
   "execution_count": 41,
   "id": "3f093e58",
   "metadata": {},
   "outputs": [
    {
     "name": "stdout",
     "output_type": "stream",
     "text": [
      "Number of values correctly predicted:\n",
      "True     2443\n",
      "False    1602\n",
      "Name: final_result, dtype: int64\n"
     ]
    }
   ],
   "source": [
    "residuals = y_test == test_preds\n",
    "\n",
    "print('Number of values correctly predicted:')\n",
    "print(pd.Series(residuals).value_counts())"
   ]
  },
  {
   "cell_type": "markdown",
   "id": "89c4a4fd",
   "metadata": {},
   "source": [
    "### Model Results:\n",
    "* Model is overfitting training data based on metrics\n",
    "* Confusion matrix on test sets shows increased value for false negatives"
   ]
  },
  {
   "cell_type": "markdown",
   "id": "5d9c6680",
   "metadata": {},
   "source": [
    "## Decision Tree Model"
   ]
  },
  {
   "cell_type": "code",
   "execution_count": 42,
   "id": "ef45d818",
   "metadata": {},
   "outputs": [],
   "source": [
    "dt_pipeline = make_pipeline(transformer, StandardScaler(with_mean = False), \n",
    "                             SMOTE(), DT(random_state = 2021))"
   ]
  },
  {
   "cell_type": "code",
   "execution_count": 43,
   "id": "320decee",
   "metadata": {},
   "outputs": [
    {
     "data": {
      "text/plain": [
       "0.6971569839307787"
      ]
     },
     "execution_count": 43,
     "metadata": {},
     "output_type": "execute_result"
    }
   ],
   "source": [
    "dt_pipeline.fit(x_train, y_train)\n",
    "dt_pipeline.score(x_test, y_test)"
   ]
  },
  {
   "cell_type": "code",
   "execution_count": 44,
   "id": "732f5b2f",
   "metadata": {},
   "outputs": [
    {
     "name": "stdout",
     "output_type": "stream",
     "text": [
      "Average Accuracy Score: 0.704634920160643\n",
      "Average Recall Score: 0.5519319140896761\n",
      "Average Precision Score: 0.47541967145891323\n",
      "Average F1 Score: 0.5105898544709887\n"
     ]
    }
   ],
   "source": [
    "history.report(dt_pipeline,x_train, y_train, 'Decision Tree - Defaults', \n",
    "               'Decision Tree with All Features')"
   ]
  },
  {
   "cell_type": "markdown",
   "id": "ce0cb9ae",
   "metadata": {},
   "source": [
    "* **Predicted Values**"
   ]
  },
  {
   "cell_type": "code",
   "execution_count": 45,
   "id": "9ca3b26e",
   "metadata": {},
   "outputs": [],
   "source": [
    "train_preds = dt_pipeline.predict(x_train)\n",
    "test_preds = dt_pipeline.predict(x_test)"
   ]
  },
  {
   "cell_type": "markdown",
   "id": "24cb6f37",
   "metadata": {},
   "source": [
    "* **Evaluation Metrics**"
   ]
  },
  {
   "cell_type": "code",
   "execution_count": 46,
   "id": "f5e55400",
   "metadata": {},
   "outputs": [
    {
     "name": "stdout",
     "output_type": "stream",
     "text": [
      "Precision Score: 1.0\n",
      "Recall Score: 1.0\n",
      "Accuracy Score: 1.0\n",
      "F1 Score: 1.0\n",
      "\n",
      "\n",
      "Precision Score: 0.4647239263803681\n",
      "Recall Score: 0.5348631950573698\n",
      "Accuracy Score: 0.6971569839307787\n",
      "F1 Score: 0.4973327862125564\n",
      "\n",
      "\n"
     ]
    }
   ],
   "source": [
    "mf.print_metrics(y_train,train_preds)\n",
    "mf.print_metrics(y_test,test_preds)"
   ]
  },
  {
   "cell_type": "markdown",
   "id": "6d717f90",
   "metadata": {},
   "source": [
    "* **Confusion Matrix**"
   ]
  },
  {
   "cell_type": "code",
   "execution_count": 47,
   "id": "6522f813",
   "metadata": {
    "scrolled": true
   },
   "outputs": [
    {
     "data": {
      "text/plain": [
       "<Figure size 720x720 with 0 Axes>"
      ]
     },
     "metadata": {},
     "output_type": "display_data"
    },
    {
     "data": {
      "image/png": "[encoded data removed]",
      "text/plain": [
       "<Figure size 432x288 with 2 Axes>"
      ]
     },
     "metadata": {},
     "output_type": "display_data"
    }
   ],
   "source": [
    "mf.confusion_mtx(dt_pipeline, x_test, y_test)"
   ]
  },
  {
   "cell_type": "code",
   "execution_count": 48,
   "id": "a9740daa",
   "metadata": {},
   "outputs": [
    {
     "name": "stdout",
     "output_type": "stream",
     "text": [
      "Number of values correctly predicted:\n",
      "True    12134\n",
      "Name: final_result, dtype: int64\n"
     ]
    }
   ],
   "source": [
    "residuals = y_train == train_preds\n",
    "\n",
    "print('Number of values correctly predicted:')\n",
    "print(pd.Series(residuals).value_counts())"
   ]
  },
  {
   "cell_type": "code",
   "execution_count": 49,
   "id": "ab651722",
   "metadata": {},
   "outputs": [
    {
     "name": "stdout",
     "output_type": "stream",
     "text": [
      "Number of values correctly predicted:\n",
      "True     2820\n",
      "False    1225\n",
      "Name: final_result, dtype: int64\n"
     ]
    }
   ],
   "source": [
    "residuals = y_test == test_preds\n",
    "\n",
    "print('Number of values correctly predicted:')\n",
    "print(pd.Series(residuals).value_counts())"
   ]
  },
  {
   "cell_type": "markdown",
   "id": "61ddc599",
   "metadata": {},
   "source": [
    "* Model is overfitting training data"
   ]
  },
  {
   "cell_type": "markdown",
   "id": "353e61b2",
   "metadata": {},
   "source": [
    "### Max Depth of Tree\n",
    "\n",
    "I will use the AUC and ROC to identify optimal depth of the tree."
   ]
  },
  {
   "cell_type": "code",
   "execution_count": 50,
   "id": "ab98a972",
   "metadata": {},
   "outputs": [
    {
     "data": {
      "image/png": "[encoded data removed]",
      "text/plain": [
       "<Figure size 864x432 with 1 Axes>"
      ]
     },
     "metadata": {},
     "output_type": "display_data"
    }
   ],
   "source": [
    "max_depths = np.linspace(1, 15, 15, endpoint=True)\n",
    "train_results = []\n",
    "test_results = []\n",
    "\n",
    "for max_depth in max_depths:\n",
    "    \n",
    "    dt_depth_p = make_pipeline(transformer, StandardScaler(with_mean = False), \n",
    "                             SMOTE(), DT( max_depth=max_depth,\n",
    "                                         random_state = 1))\n",
    "    dt_depth_p.fit(x_train, y_train)\n",
    "    train_pred = dt_depth_p.predict(x_train)\n",
    "    false_positive_rate, true_positive_rate, thresholds = roc_curve(y_train, train_pred)\n",
    "    roc_auc = auc(false_positive_rate, true_positive_rate)\n",
    "    # Add auc score to previous train results\n",
    "    train_results.append(roc_auc)\n",
    "    y_pred = dt_depth_p.predict(x_test)\n",
    "    false_positive_rate, true_positive_rate, thresholds = roc_curve(y_test, y_pred)\n",
    "    roc_auc = auc(false_positive_rate, true_positive_rate)\n",
    "    # Add auc score to previous test results\n",
    "    test_results.append(roc_auc)\n",
    "\n",
    "plt.figure(figsize=(12,6))\n",
    "plt.plot(max_depths, train_results, 'b', label='Train AUC')\n",
    "plt.plot(max_depths, test_results, 'r', label='Test AUC')\n",
    "plt.ylabel('AUC Score')\n",
    "plt.xlabel('Tree Depth')\n",
    "plt.legend()\n",
    "plt.show()"
   ]
  },
  {
   "cell_type": "code",
   "execution_count": 51,
   "id": "ff2acbb2",
   "metadata": {},
   "outputs": [],
   "source": [
    "# Max depth 5 or 7"
   ]
  },
  {
   "cell_type": "code",
   "execution_count": 52,
   "id": "b3d83c10",
   "metadata": {},
   "outputs": [],
   "source": [
    "dt_pipe_2 = make_pipeline(transformer, StandardScaler(with_mean = False), \n",
    "                             SMOTE(), DT(random_state = 2021, max_depth = 5))"
   ]
  },
  {
   "cell_type": "code",
   "execution_count": 53,
   "id": "219ef2a8",
   "metadata": {},
   "outputs": [
    {
     "data": {
      "text/plain": [
       "0.7433868974042027"
      ]
     },
     "execution_count": 53,
     "metadata": {},
     "output_type": "execute_result"
    }
   ],
   "source": [
    "dt_pipe_2.fit(x_train, y_train)\n",
    "dt_pipe_2.score(x_test, y_test)"
   ]
  },
  {
   "cell_type": "code",
   "execution_count": 54,
   "id": "69cd74d5",
   "metadata": {},
   "outputs": [
    {
     "name": "stdout",
     "output_type": "stream",
     "text": [
      "Average Accuracy Score: 0.7262231237377613\n",
      "Average Recall Score: 0.6505308684031867\n",
      "Average Precision Score: 0.5114129316198442\n",
      "Average F1 Score: 0.5691044658967528\n"
     ]
    }
   ],
   "source": [
    "history.report(dt_pipe_2,x_train, y_train, 'Decision Tree - Depth 5', \n",
    "               'Decision Tree with Max Depth of 5')"
   ]
  },
  {
   "cell_type": "markdown",
   "id": "170cd6ff",
   "metadata": {},
   "source": [
    "* **Predicted Values**"
   ]
  },
  {
   "cell_type": "code",
   "execution_count": 55,
   "id": "3b448bc8",
   "metadata": {},
   "outputs": [],
   "source": [
    "train_preds = dt_pipe_2.predict(x_train)\n",
    "test_preds = dt_pipe_2.predict(x_test)"
   ]
  },
  {
   "cell_type": "markdown",
   "id": "1a173d87",
   "metadata": {},
   "source": [
    "* **Evaluation Metrics**"
   ]
  },
  {
   "cell_type": "code",
   "execution_count": 56,
   "id": "e3f7bc13",
   "metadata": {},
   "outputs": [
    {
     "name": "stdout",
     "output_type": "stream",
     "text": [
      "Precision Score: 0.5455246913580247\n",
      "Recall Score: 0.6264028352037803\n",
      "Accuracy Score: 0.7501236195813417\n",
      "F1 Score: 0.5831729447346715\n",
      "\n",
      "\n",
      "Precision Score: 0.5375494071146245\n",
      "Recall Score: 0.6001765225066196\n",
      "Accuracy Score: 0.7433868974042027\n",
      "F1 Score: 0.5671392827356131\n",
      "\n",
      "\n"
     ]
    }
   ],
   "source": [
    "mf.print_metrics(y_train,train_preds)\n",
    "mf.print_metrics(y_test,test_preds)"
   ]
  },
  {
   "cell_type": "markdown",
   "id": "14bb27d8",
   "metadata": {},
   "source": [
    "* **Confusion Matrix**"
   ]
  },
  {
   "cell_type": "code",
   "execution_count": 57,
   "id": "16e57988",
   "metadata": {
    "scrolled": true
   },
   "outputs": [
    {
     "data": {
      "text/plain": [
       "<Figure size 720x720 with 0 Axes>"
      ]
     },
     "metadata": {},
     "output_type": "display_data"
    },
    {
     "data": {
      "image/png": "[encoded data removed]",
      "text/plain": [
       "<Figure size 432x288 with 2 Axes>"
      ]
     },
     "metadata": {},
     "output_type": "display_data"
    }
   ],
   "source": [
    "mf.confusion_mtx(dt_pipe_2, x_test, y_test)"
   ]
  },
  {
   "cell_type": "code",
   "execution_count": 58,
   "id": "9a9dc188",
   "metadata": {},
   "outputs": [
    {
     "name": "stdout",
     "output_type": "stream",
     "text": [
      "Number of values correctly predicted:\n",
      "True     9102\n",
      "False    3032\n",
      "Name: final_result, dtype: int64\n"
     ]
    }
   ],
   "source": [
    "residuals = y_train == train_preds\n",
    "\n",
    "print('Number of values correctly predicted:')\n",
    "print(pd.Series(residuals).value_counts())"
   ]
  },
  {
   "cell_type": "code",
   "execution_count": 59,
   "id": "a4a3d799",
   "metadata": {},
   "outputs": [
    {
     "name": "stdout",
     "output_type": "stream",
     "text": [
      "Number of values correctly predicted:\n",
      "True     3007\n",
      "False    1038\n",
      "Name: final_result, dtype: int64\n"
     ]
    }
   ],
   "source": [
    "residuals = y_test == test_preds\n",
    "\n",
    "print('Number of values correctly predicted:')\n",
    "print(pd.Series(residuals).value_counts())"
   ]
  },
  {
   "cell_type": "markdown",
   "id": "27ea5d1d",
   "metadata": {},
   "source": [
    "### Model Results:\n",
    "\n",
    "* After tuning depth of the tree, the metrics show almost no overfitting.\n",
    "* The confusion matrix show slightly better results, but still worse than Linear Regression\n",
    "* The value of false negatives is high."
   ]
  },
  {
   "cell_type": "markdown",
   "id": "0557c31b",
   "metadata": {},
   "source": [
    "## Random Forest Model\n",
    "\n",
    "I will use same depth for Random Forest Model as I used in Decision Tree"
   ]
  },
  {
   "cell_type": "code",
   "execution_count": 60,
   "id": "a56db71c",
   "metadata": {},
   "outputs": [],
   "source": [
    "rf_pipeline = make_pipeline(transformer, StandardScaler(with_mean = False), \n",
    "                             SMOTE(), RFC(max_depth = 5, random_state = 2021))"
   ]
  },
  {
   "cell_type": "code",
   "execution_count": 61,
   "id": "72270c5a",
   "metadata": {},
   "outputs": [
    {
     "data": {
      "text/plain": [
       "0.7352286773794808"
      ]
     },
     "execution_count": 61,
     "metadata": {},
     "output_type": "execute_result"
    }
   ],
   "source": [
    "rf_pipeline.fit(x_train, y_train)\n",
    "rf_pipeline.score(x_test, y_test)"
   ]
  },
  {
   "cell_type": "code",
   "execution_count": 62,
   "id": "17630759",
   "metadata": {},
   "outputs": [
    {
     "name": "stdout",
     "output_type": "stream",
     "text": [
      "Average Accuracy Score: 0.7352070037525925\n",
      "Average Recall Score: 0.6570499912660679\n",
      "Average Precision Score: 0.5201572762725397\n",
      "Average F1 Score: 0.5805589255113626\n"
     ]
    }
   ],
   "source": [
    "history.report(rf_pipeline,x_train, y_train, 'Random Forest - Depth 5', \n",
    "               'Random Forest with All Features and Depth 5')"
   ]
  },
  {
   "cell_type": "markdown",
   "id": "189a0317",
   "metadata": {},
   "source": [
    "* **Predicted Values**"
   ]
  },
  {
   "cell_type": "code",
   "execution_count": 63,
   "id": "6f68218d",
   "metadata": {},
   "outputs": [],
   "source": [
    "train_preds = rf_pipeline.predict(x_train)\n",
    "test_preds = rf_pipeline.predict(x_test)"
   ]
  },
  {
   "cell_type": "markdown",
   "id": "87d1bc37",
   "metadata": {},
   "source": [
    "* **Evaluation Metrics**"
   ]
  },
  {
   "cell_type": "code",
   "execution_count": 64,
   "id": "8ef17b4c",
   "metadata": {},
   "outputs": [
    {
     "name": "stdout",
     "output_type": "stream",
     "text": [
      "Precision Score: 0.5307727903748265\n",
      "Recall Score: 0.6774955699940933\n",
      "Accuracy Score: 0.7428712708092962\n",
      "F1 Score: 0.5952257394914374\n",
      "\n",
      "\n",
      "Precision Score: 0.5219546742209632\n",
      "Recall Score: 0.6504854368932039\n",
      "Accuracy Score: 0.7352286773794808\n",
      "F1 Score: 0.5791748526522594\n",
      "\n",
      "\n"
     ]
    }
   ],
   "source": [
    "mf.print_metrics(y_train,train_preds)\n",
    "mf.print_metrics(y_test,test_preds)"
   ]
  },
  {
   "cell_type": "markdown",
   "id": "0170f9c0",
   "metadata": {},
   "source": [
    "* **Confusion Matrix**"
   ]
  },
  {
   "cell_type": "code",
   "execution_count": 65,
   "id": "a6457ddd",
   "metadata": {
    "scrolled": true
   },
   "outputs": [
    {
     "data": {
      "text/plain": [
       "<Figure size 720x720 with 0 Axes>"
      ]
     },
     "metadata": {},
     "output_type": "display_data"
    },
    {
     "data": {
      "image/png": "[encoded data removed]",
      "text/plain": [
       "<Figure size 432x288 with 2 Axes>"
      ]
     },
     "metadata": {},
     "output_type": "display_data"
    }
   ],
   "source": [
    "mf.confusion_mtx(rf_pipeline, x_test, y_test)"
   ]
  },
  {
   "cell_type": "code",
   "execution_count": 66,
   "id": "65ca4f73",
   "metadata": {},
   "outputs": [
    {
     "name": "stdout",
     "output_type": "stream",
     "text": [
      "Number of values correctly predicted:\n",
      "True     9014\n",
      "False    3120\n",
      "Name: final_result, dtype: int64\n"
     ]
    }
   ],
   "source": [
    "residuals = y_train == train_preds\n",
    "\n",
    "print('Number of values correctly predicted:')\n",
    "print(pd.Series(residuals).value_counts())"
   ]
  },
  {
   "cell_type": "code",
   "execution_count": 67,
   "id": "e7424622",
   "metadata": {},
   "outputs": [
    {
     "name": "stdout",
     "output_type": "stream",
     "text": [
      "Number of values correctly predicted:\n",
      "True     2974\n",
      "False    1071\n",
      "Name: final_result, dtype: int64\n"
     ]
    }
   ],
   "source": [
    "residuals = y_test == test_preds\n",
    "\n",
    "print('Number of values correctly predicted:')\n",
    "print(pd.Series(residuals).value_counts())"
   ]
  },
  {
   "cell_type": "markdown",
   "id": "daed8708",
   "metadata": {},
   "source": [
    "### Model Results:\n",
    "\n",
    "* The metrics show infignificant improvement compared to Decision Tree\n",
    "* Confusion Matrix has slightly worse values than Decision Tree "
   ]
  },
  {
   "cell_type": "markdown",
   "id": "c3a1f7a8",
   "metadata": {},
   "source": [
    "## Gradient Boost"
   ]
  },
  {
   "cell_type": "code",
   "execution_count": 68,
   "id": "ff33388c",
   "metadata": {},
   "outputs": [],
   "source": [
    "gbc_pipeline = make_pipeline(transformer, StandardScaler(with_mean = False), \n",
    "                             SMOTE(), GBC(max_depth = 5, random_state = 2021))"
   ]
  },
  {
   "cell_type": "code",
   "execution_count": 69,
   "id": "aac0e6a1",
   "metadata": {},
   "outputs": [
    {
     "data": {
      "text/plain": [
       "0.7851668726823239"
      ]
     },
     "execution_count": 69,
     "metadata": {},
     "output_type": "execute_result"
    }
   ],
   "source": [
    "gbc_pipeline.fit(x_train, y_train)\n",
    "gbc_pipeline.score(x_test, y_test)"
   ]
  },
  {
   "cell_type": "code",
   "execution_count": 70,
   "id": "b2c070c5",
   "metadata": {},
   "outputs": [
    {
     "name": "stdout",
     "output_type": "stream",
     "text": [
      "Average Accuracy Score: 0.793061167391697\n",
      "Average Recall Score: 0.5783111422385161\n",
      "Average Precision Score: 0.6431983265665091\n",
      "Average F1 Score: 0.6087656408432103\n"
     ]
    }
   ],
   "source": [
    "history.report(gbc_pipeline,x_train, y_train, 'Gradient Boost - Depth 5', \n",
    "               'Gradient Boost with All Features and Depth 5')"
   ]
  },
  {
   "cell_type": "markdown",
   "id": "1ff507a5",
   "metadata": {},
   "source": [
    "* **Predicted Values**"
   ]
  },
  {
   "cell_type": "code",
   "execution_count": 71,
   "id": "b00e0bc8",
   "metadata": {},
   "outputs": [],
   "source": [
    "train_preds = gbc_pipeline.predict(x_train)\n",
    "test_preds = gbc_pipeline.predict(x_test)"
   ]
  },
  {
   "cell_type": "markdown",
   "id": "a64daaa7",
   "metadata": {},
   "source": [
    "* **Evaluation Metrics**"
   ]
  },
  {
   "cell_type": "code",
   "execution_count": 72,
   "id": "4ed026c1",
   "metadata": {},
   "outputs": [
    {
     "name": "stdout",
     "output_type": "stream",
     "text": [
      "Precision Score: 0.71494708994709\n",
      "Recall Score: 0.6385115180153573\n",
      "Accuracy Score: 0.8280863688808308\n",
      "F1 Score: 0.6745709828393136\n",
      "\n",
      "\n",
      "Precision Score: 0.632\n",
      "Recall Score: 0.5578111209179171\n",
      "Accuracy Score: 0.7851668726823239\n",
      "F1 Score: 0.5925925925925926\n",
      "\n",
      "\n"
     ]
    }
   ],
   "source": [
    "mf.print_metrics(y_train,train_preds)\n",
    "mf.print_metrics(y_test,test_preds)"
   ]
  },
  {
   "cell_type": "markdown",
   "id": "1e6a88af",
   "metadata": {},
   "source": [
    "* **Confusion Matrix**"
   ]
  },
  {
   "cell_type": "code",
   "execution_count": 73,
   "id": "627a6c45",
   "metadata": {
    "scrolled": true
   },
   "outputs": [
    {
     "data": {
      "text/plain": [
       "<Figure size 720x720 with 0 Axes>"
      ]
     },
     "metadata": {},
     "output_type": "display_data"
    },
    {
     "data": {
      "image/png": "[encoded data removed]",
      "text/plain": [
       "<Figure size 432x288 with 2 Axes>"
      ]
     },
     "metadata": {},
     "output_type": "display_data"
    }
   ],
   "source": [
    "mf.confusion_mtx(gbc_pipeline, x_test, y_test)"
   ]
  },
  {
   "cell_type": "code",
   "execution_count": 74,
   "id": "5bece52d",
   "metadata": {},
   "outputs": [
    {
     "name": "stdout",
     "output_type": "stream",
     "text": [
      "Number of values correctly predicted:\n",
      "True     10048\n",
      "False     2086\n",
      "Name: final_result, dtype: int64\n"
     ]
    }
   ],
   "source": [
    "residuals = y_train == train_preds\n",
    "\n",
    "print('Number of values correctly predicted:')\n",
    "print(pd.Series(residuals).value_counts())"
   ]
  },
  {
   "cell_type": "code",
   "execution_count": 75,
   "id": "c6bb4c30",
   "metadata": {},
   "outputs": [
    {
     "name": "stdout",
     "output_type": "stream",
     "text": [
      "Number of values correctly predicted:\n",
      "True     3176\n",
      "False     869\n",
      "Name: final_result, dtype: int64\n"
     ]
    }
   ],
   "source": [
    "residuals = y_test == test_preds\n",
    "\n",
    "print('Number of values correctly predicted:')\n",
    "print(pd.Series(residuals).value_counts())"
   ]
  },
  {
   "cell_type": "markdown",
   "id": "e89e6574",
   "metadata": {},
   "source": [
    "### Model Results:\n",
    "\n",
    "* Evaluation metrics show that model is overfitting training set\n",
    "* Confusion matrix has worse results compared to models above"
   ]
  },
  {
   "cell_type": "markdown",
   "id": "14d61324",
   "metadata": {},
   "source": [
    "## XGBoost\n",
    "\n"
   ]
  },
  {
   "cell_type": "code",
   "execution_count": 76,
   "id": "d867cb03",
   "metadata": {},
   "outputs": [],
   "source": [
    "xgb_pipeline = make_pipeline(transformer, StandardScaler(with_mean = False), \n",
    "                             SMOTE(), XGB(use_label_encoder=False, verbosity=0))"
   ]
  },
  {
   "cell_type": "code",
   "execution_count": 77,
   "id": "369a5768",
   "metadata": {},
   "outputs": [
    {
     "data": {
      "text/plain": [
       "0.7792336217552533"
      ]
     },
     "execution_count": 77,
     "metadata": {},
     "output_type": "execute_result"
    }
   ],
   "source": [
    "xgb_pipeline.fit(x_train, y_train)\n",
    "xgb_pipeline.score(x_test, y_test)"
   ]
  },
  {
   "cell_type": "code",
   "execution_count": 78,
   "id": "115a5e75",
   "metadata": {},
   "outputs": [
    {
     "name": "stdout",
     "output_type": "stream",
     "text": [
      "Average Accuracy Score: 0.7955334915135456\n",
      "Average Recall Score: 0.5327066039216113\n",
      "Average Precision Score: 0.6667670495619177\n",
      "Average F1 Score: 0.5919760728532915\n"
     ]
    }
   ],
   "source": [
    "history.report(xgb_pipeline,x_train, y_train, 'XGBoost - Defaults', \n",
    "               'XGBoost with All Features')"
   ]
  },
  {
   "cell_type": "markdown",
   "id": "5d15bf5e",
   "metadata": {},
   "source": [
    "* **Predicted Values**"
   ]
  },
  {
   "cell_type": "code",
   "execution_count": 79,
   "id": "fad2311b",
   "metadata": {},
   "outputs": [],
   "source": [
    "train_preds = xgb_pipeline.predict(x_train)\n",
    "test_preds = xgb_pipeline.predict(x_test)"
   ]
  },
  {
   "cell_type": "markdown",
   "id": "f6257fb8",
   "metadata": {},
   "source": [
    "* **Evaluation Metrics**"
   ]
  },
  {
   "cell_type": "code",
   "execution_count": 80,
   "id": "15ad0e9e",
   "metadata": {},
   "outputs": [
    {
     "name": "stdout",
     "output_type": "stream",
     "text": [
      "Precision Score: 0.833271991166728\n",
      "Recall Score: 0.6686355581807443\n",
      "Accuracy Score: 0.8701994395912312\n",
      "F1 Score: 0.7419301982631493\n",
      "\n",
      "\n",
      "Precision Score: 0.6327433628318584\n",
      "Recall Score: 0.5048543689320388\n",
      "Accuracy Score: 0.7792336217552533\n",
      "F1 Score: 0.5616102110947472\n",
      "\n",
      "\n"
     ]
    }
   ],
   "source": [
    "mf.print_metrics(y_train,train_preds)\n",
    "mf.print_metrics(y_test,test_preds)"
   ]
  },
  {
   "cell_type": "markdown",
   "id": "3b17bcae",
   "metadata": {},
   "source": [
    "* **Confusion Matrix**"
   ]
  },
  {
   "cell_type": "code",
   "execution_count": 81,
   "id": "244ca66c",
   "metadata": {
    "scrolled": true
   },
   "outputs": [
    {
     "data": {
      "text/plain": [
       "<Figure size 720x720 with 0 Axes>"
      ]
     },
     "metadata": {},
     "output_type": "display_data"
    },
    {
     "data": {
      "image/png": "[encoded data removed]",
      "text/plain": [
       "<Figure size 432x288 with 2 Axes>"
      ]
     },
     "metadata": {},
     "output_type": "display_data"
    }
   ],
   "source": [
    "mf.confusion_mtx(xgb_pipeline, x_test, y_test)"
   ]
  },
  {
   "cell_type": "code",
   "execution_count": 82,
   "id": "e26dbac3",
   "metadata": {},
   "outputs": [
    {
     "name": "stdout",
     "output_type": "stream",
     "text": [
      "Number of values correctly predicted:\n",
      "True     10559\n",
      "False     1575\n",
      "Name: final_result, dtype: int64\n"
     ]
    }
   ],
   "source": [
    "residuals = y_train == train_preds\n",
    "\n",
    "print('Number of values correctly predicted:')\n",
    "print(pd.Series(residuals).value_counts())"
   ]
  },
  {
   "cell_type": "code",
   "execution_count": 83,
   "id": "7a683c4d",
   "metadata": {},
   "outputs": [
    {
     "name": "stdout",
     "output_type": "stream",
     "text": [
      "Number of values correctly predicted:\n",
      "True     3152\n",
      "False     893\n",
      "Name: final_result, dtype: int64\n"
     ]
    }
   ],
   "source": [
    "residuals = y_test == test_preds\n",
    "\n",
    "print('Number of values correctly predicted:')\n",
    "print(pd.Series(residuals).value_counts())"
   ]
  },
  {
   "cell_type": "markdown",
   "id": "6cec9c42",
   "metadata": {},
   "source": [
    "### Model Results:\n",
    "\n",
    "* Almost the same metric results as for Gradient Boost - overfitting training set\n",
    "* Worse values for confusion matrix"
   ]
  },
  {
   "cell_type": "markdown",
   "id": "4e64861d",
   "metadata": {},
   "source": [
    "## Feature Importance Logistic Regression"
   ]
  },
  {
   "cell_type": "code",
   "execution_count": 84,
   "id": "6e1de6e0",
   "metadata": {},
   "outputs": [
    {
     "name": "stdout",
     "output_type": "stream",
     "text": [
      "<class 'pandas.core.frame.DataFrame'>\n",
      "Int64Index: 12134 entries, 1739 to 5312\n",
      "Data columns (total 13 columns):\n",
      " #   Column             Non-Null Count  Dtype  \n",
      "---  ------             --------------  -----  \n",
      " 0   course_length      12134 non-null  int64  \n",
      " 1   code_module        12134 non-null  object \n",
      " 2   date_registration  12134 non-null  int64  \n",
      " 3   sum_click          12134 non-null  int64  \n",
      " 4   gender             12134 non-null  object \n",
      " 5   region             12134 non-null  object \n",
      " 6   highest_education  12134 non-null  object \n",
      " 7   imd_band           12134 non-null  object \n",
      " 8   age_band           12134 non-null  object \n",
      " 9   attempts           12134 non-null  int64  \n",
      " 10  studied_credits    12134 non-null  int64  \n",
      " 11  disability         12134 non-null  object \n",
      " 12  mean_score         12134 non-null  float64\n",
      "dtypes: float64(1), int64(5), object(7)\n",
      "memory usage: 1.3+ MB\n"
     ]
    }
   ],
   "source": [
    "x_train.info()"
   ]
  },
  {
   "cell_type": "code",
   "execution_count": 85,
   "id": "df4c2a35",
   "metadata": {},
   "outputs": [],
   "source": [
    "num_vars = ['course_length', 'date_registration', 'sum_click', 'attempts', 'studied_credits', 'mean_score']\n",
    "\n",
    "cat_vars = upsample_pipe.named_steps['columntransformer'].transformers_[0][1].get_feature_names().tolist()\n",
    "\n",
    "features_df = list(zip(num_vars + cat_vars, upsample_pipe.named_steps['logisticregression'].coef_[0]))"
   ]
  },
  {
   "cell_type": "code",
   "execution_count": 86,
   "id": "c6e26d9d",
   "metadata": {},
   "outputs": [],
   "source": [
    "feature_importance = pd.DataFrame(features_df, columns = [\"feature\", \"importance\"])\n",
    "feature_importance = feature_importance.sort_values(by = [\"importance\"], ascending=False)"
   ]
  },
  {
   "cell_type": "code",
   "execution_count": 87,
   "id": "b23fff87",
   "metadata": {
    "scrolled": false
   },
   "outputs": [
    {
     "data": {
      "text/plain": [
       "<BarContainer object of 48 artists>"
      ]
     },
     "execution_count": 87,
     "metadata": {},
     "output_type": "execute_result"
    },
    {
     "data": {
      "image/png": "[encoded data removed]",
      "text/plain": [
       "<Figure size 1080x1080 with 1 Axes>"
      ]
     },
     "metadata": {},
     "output_type": "display_data"
    }
   ],
   "source": [
    "fig, ax = plt.subplots(figsize = (15,15))\n",
    "ax.barh(width=feature_importance.importance, y=feature_importance.feature)"
   ]
  },
  {
   "cell_type": "code",
   "execution_count": 88,
   "id": "aaf9dd38",
   "metadata": {
    "scrolled": true
   },
   "outputs": [],
   "source": [
    "imp_features = feature_importance[(feature_importance['importance'] > 0)]\n",
    "imp_features = imp_features['feature'].tolist()"
   ]
  },
  {
   "cell_type": "markdown",
   "id": "7058e3ac",
   "metadata": {},
   "source": [
    "## Random Forest Feature Importance"
   ]
  },
  {
   "cell_type": "code",
   "execution_count": 89,
   "id": "af0fee9c",
   "metadata": {},
   "outputs": [],
   "source": [
    "rf_permutation = permutation_importance(rf_pipeline, x_train, y_train)"
   ]
  },
  {
   "cell_type": "code",
   "execution_count": 90,
   "id": "c94f9c48",
   "metadata": {},
   "outputs": [],
   "source": [
    "rf_features = list(zip(x_train.columns, rf_permutation['importances_mean']))"
   ]
  },
  {
   "cell_type": "code",
   "execution_count": 91,
   "id": "376e29f0",
   "metadata": {},
   "outputs": [],
   "source": [
    "rf_feature_importance = pd.DataFrame(rf_features, columns = [\"feature\", \"importance\"])"
   ]
  },
  {
   "cell_type": "code",
   "execution_count": 92,
   "id": "3b9b41cf",
   "metadata": {
    "scrolled": true
   },
   "outputs": [
    {
     "data": {
      "image/png": "[encoded data removed]",
      "text/plain": [
       "<Figure size 432x288 with 1 Axes>"
      ]
     },
     "metadata": {},
     "output_type": "display_data"
    }
   ],
   "source": [
    "ax = rf_feature_importance.plot.barh(x='feature', y='importance')\n",
    "plt.show()\n",
    "\n",
    "# fig, ax = plt.subplots(figsize = (15,15))\n",
    "# ax.barh(width=rf_feature_importance.importance, y=rf_feature_importance.feature)"
   ]
  },
  {
   "cell_type": "markdown",
   "id": "d8d6d616",
   "metadata": {},
   "source": [
    "## GridSearch for Best Model Parameters"
   ]
  },
  {
   "cell_type": "code",
   "execution_count": 93,
   "id": "c95e8fac",
   "metadata": {},
   "outputs": [],
   "source": [
    "models = {LR: {'C': [0.01, 0.02, 0.03, 0.05, 0.1, 0,2, 0.3, 0.5],\n",
    "               'max_iter': [50, 100, 200, 500],\n",
    "               'penalty': ['l2', 'l1', 'elasticnet', None],\n",
    "               'solver': ['newton-cg', 'lbfgs', 'saga'], \n",
    "               'random_state': [2021]},\n",
    "          KNN: {'metric': ['euclidean', 'manhattan'],\n",
    "                'n_neighbors': [2, 3, 4, 5, 7, 10, 15],\n",
    "                'weights': ['uniform', 'distance']},\n",
    "          DT: {'criterion': ['gini', 'entropy'],\n",
    "               'max_depth': [None, 4, 5, 7, 10],\n",
    "               'min_samples_split': [2, 3, 5, 10],\n",
    "               'random_state': [2021]}}\n",
    "          "
   ]
  },
  {
   "cell_type": "code",
   "execution_count": 94,
   "id": "657ce859",
   "metadata": {
    "scrolled": true
   },
   "outputs": [],
   "source": [
    "with warnings.catch_warnings():\n",
    "    warnings.filterwarnings(\"ignore\")\n",
    "    \n",
    "    tuned_models = {}\n",
    "\n",
    "    for model, params in models.items():\n",
    "        pipe = make_pipeline(transformer, StandardScaler(with_mean = False),\n",
    "                             SMOTE(),model())\n",
    "    \n",
    "        model_name = model.__name__.lower()\n",
    "        parameters = dict(map(lambda x: (model_name +'__'+x[0], x[1]), params.items()))\n",
    "    \n",
    "        grid = GridSearchCV(pipe, parameters)\n",
    "        grid.fit(x_train, y_train)\n",
    "        tuned_models[model_name] = grid.best_estimator_.get_params()"
   ]
  },
  {
   "cell_type": "code",
   "execution_count": 95,
   "id": "e614a75c",
   "metadata": {
    "scrolled": false
   },
   "outputs": [
    {
     "data": {
      "text/plain": [
       "{'logisticregression': {'memory': None,\n",
       "  'steps': [('columntransformer',\n",
       "    ColumnTransformer(remainder='passthrough',\n",
       "                      transformers=[('categorical',\n",
       "                                     OneHotEncoder(handle_unknown='ignore'),\n",
       "                                     [1, 4, 5, 6, 7, 8, 11])])),\n",
       "   ('standardscaler', StandardScaler(with_mean=False)),\n",
       "   ('smote', SMOTE()),\n",
       "   ('logisticregression', LogisticRegression(C=0.1, random_state=2021))],\n",
       "  'verbose': False,\n",
       "  'columntransformer': ColumnTransformer(remainder='passthrough',\n",
       "                    transformers=[('categorical',\n",
       "                                   OneHotEncoder(handle_unknown='ignore'),\n",
       "                                   [1, 4, 5, 6, 7, 8, 11])]),\n",
       "  'standardscaler': StandardScaler(with_mean=False),\n",
       "  'smote': SMOTE(),\n",
       "  'logisticregression': LogisticRegression(C=0.1, random_state=2021),\n",
       "  'columntransformer__n_jobs': None,\n",
       "  'columntransformer__remainder': 'passthrough',\n",
       "  'columntransformer__sparse_threshold': 0.3,\n",
       "  'columntransformer__transformer_weights': None,\n",
       "  'columntransformer__transformers': [('categorical',\n",
       "    OneHotEncoder(handle_unknown='ignore'),\n",
       "    [1, 4, 5, 6, 7, 8, 11])],\n",
       "  'columntransformer__verbose': False,\n",
       "  'columntransformer__categorical': OneHotEncoder(handle_unknown='ignore'),\n",
       "  'columntransformer__categorical__categories': 'auto',\n",
       "  'columntransformer__categorical__drop': None,\n",
       "  'columntransformer__categorical__dtype': numpy.float64,\n",
       "  'columntransformer__categorical__handle_unknown': 'ignore',\n",
       "  'columntransformer__categorical__sparse': True,\n",
       "  'standardscaler__copy': True,\n",
       "  'standardscaler__with_mean': False,\n",
       "  'standardscaler__with_std': True,\n",
       "  'smote__k_neighbors': 5,\n",
       "  'smote__n_jobs': None,\n",
       "  'smote__random_state': None,\n",
       "  'smote__sampling_strategy': 'auto',\n",
       "  'logisticregression__C': 0.1,\n",
       "  'logisticregression__class_weight': None,\n",
       "  'logisticregression__dual': False,\n",
       "  'logisticregression__fit_intercept': True,\n",
       "  'logisticregression__intercept_scaling': 1,\n",
       "  'logisticregression__l1_ratio': None,\n",
       "  'logisticregression__max_iter': 100,\n",
       "  'logisticregression__multi_class': 'auto',\n",
       "  'logisticregression__n_jobs': None,\n",
       "  'logisticregression__penalty': 'l2',\n",
       "  'logisticregression__random_state': 2021,\n",
       "  'logisticregression__solver': 'lbfgs',\n",
       "  'logisticregression__tol': 0.0001,\n",
       "  'logisticregression__verbose': 0,\n",
       "  'logisticregression__warm_start': False},\n",
       " 'kneighborsclassifier': {'memory': None,\n",
       "  'steps': [('columntransformer',\n",
       "    ColumnTransformer(remainder='passthrough',\n",
       "                      transformers=[('categorical',\n",
       "                                     OneHotEncoder(handle_unknown='ignore'),\n",
       "                                     [1, 4, 5, 6, 7, 8, 11])])),\n",
       "   ('standardscaler', StandardScaler(with_mean=False)),\n",
       "   ('smote', SMOTE()),\n",
       "   ('kneighborsclassifier',\n",
       "    KNeighborsClassifier(metric='manhattan', n_neighbors=2))],\n",
       "  'verbose': False,\n",
       "  'columntransformer': ColumnTransformer(remainder='passthrough',\n",
       "                    transformers=[('categorical',\n",
       "                                   OneHotEncoder(handle_unknown='ignore'),\n",
       "                                   [1, 4, 5, 6, 7, 8, 11])]),\n",
       "  'standardscaler': StandardScaler(with_mean=False),\n",
       "  'smote': SMOTE(),\n",
       "  'kneighborsclassifier': KNeighborsClassifier(metric='manhattan', n_neighbors=2),\n",
       "  'columntransformer__n_jobs': None,\n",
       "  'columntransformer__remainder': 'passthrough',\n",
       "  'columntransformer__sparse_threshold': 0.3,\n",
       "  'columntransformer__transformer_weights': None,\n",
       "  'columntransformer__transformers': [('categorical',\n",
       "    OneHotEncoder(handle_unknown='ignore'),\n",
       "    [1, 4, 5, 6, 7, 8, 11])],\n",
       "  'columntransformer__verbose': False,\n",
       "  'columntransformer__categorical': OneHotEncoder(handle_unknown='ignore'),\n",
       "  'columntransformer__categorical__categories': 'auto',\n",
       "  'columntransformer__categorical__drop': None,\n",
       "  'columntransformer__categorical__dtype': numpy.float64,\n",
       "  'columntransformer__categorical__handle_unknown': 'ignore',\n",
       "  'columntransformer__categorical__sparse': True,\n",
       "  'standardscaler__copy': True,\n",
       "  'standardscaler__with_mean': False,\n",
       "  'standardscaler__with_std': True,\n",
       "  'smote__k_neighbors': 5,\n",
       "  'smote__n_jobs': None,\n",
       "  'smote__random_state': None,\n",
       "  'smote__sampling_strategy': 'auto',\n",
       "  'kneighborsclassifier__algorithm': 'auto',\n",
       "  'kneighborsclassifier__leaf_size': 30,\n",
       "  'kneighborsclassifier__metric': 'manhattan',\n",
       "  'kneighborsclassifier__metric_params': None,\n",
       "  'kneighborsclassifier__n_jobs': None,\n",
       "  'kneighborsclassifier__n_neighbors': 2,\n",
       "  'kneighborsclassifier__p': 2,\n",
       "  'kneighborsclassifier__weights': 'uniform'},\n",
       " 'decisiontreeclassifier': {'memory': None,\n",
       "  'steps': [('columntransformer',\n",
       "    ColumnTransformer(remainder='passthrough',\n",
       "                      transformers=[('categorical',\n",
       "                                     OneHotEncoder(handle_unknown='ignore'),\n",
       "                                     [1, 4, 5, 6, 7, 8, 11])])),\n",
       "   ('standardscaler', StandardScaler(with_mean=False)),\n",
       "   ('smote', SMOTE()),\n",
       "   ('decisiontreeclassifier',\n",
       "    DecisionTreeClassifier(max_depth=7, min_samples_split=5, random_state=2021))],\n",
       "  'verbose': False,\n",
       "  'columntransformer': ColumnTransformer(remainder='passthrough',\n",
       "                    transformers=[('categorical',\n",
       "                                   OneHotEncoder(handle_unknown='ignore'),\n",
       "                                   [1, 4, 5, 6, 7, 8, 11])]),\n",
       "  'standardscaler': StandardScaler(with_mean=False),\n",
       "  'smote': SMOTE(),\n",
       "  'decisiontreeclassifier': DecisionTreeClassifier(max_depth=7, min_samples_split=5, random_state=2021),\n",
       "  'columntransformer__n_jobs': None,\n",
       "  'columntransformer__remainder': 'passthrough',\n",
       "  'columntransformer__sparse_threshold': 0.3,\n",
       "  'columntransformer__transformer_weights': None,\n",
       "  'columntransformer__transformers': [('categorical',\n",
       "    OneHotEncoder(handle_unknown='ignore'),\n",
       "    [1, 4, 5, 6, 7, 8, 11])],\n",
       "  'columntransformer__verbose': False,\n",
       "  'columntransformer__categorical': OneHotEncoder(handle_unknown='ignore'),\n",
       "  'columntransformer__categorical__categories': 'auto',\n",
       "  'columntransformer__categorical__drop': None,\n",
       "  'columntransformer__categorical__dtype': numpy.float64,\n",
       "  'columntransformer__categorical__handle_unknown': 'ignore',\n",
       "  'columntransformer__categorical__sparse': True,\n",
       "  'standardscaler__copy': True,\n",
       "  'standardscaler__with_mean': False,\n",
       "  'standardscaler__with_std': True,\n",
       "  'smote__k_neighbors': 5,\n",
       "  'smote__n_jobs': None,\n",
       "  'smote__random_state': None,\n",
       "  'smote__sampling_strategy': 'auto',\n",
       "  'decisiontreeclassifier__ccp_alpha': 0.0,\n",
       "  'decisiontreeclassifier__class_weight': None,\n",
       "  'decisiontreeclassifier__criterion': 'gini',\n",
       "  'decisiontreeclassifier__max_depth': 7,\n",
       "  'decisiontreeclassifier__max_features': None,\n",
       "  'decisiontreeclassifier__max_leaf_nodes': None,\n",
       "  'decisiontreeclassifier__min_impurity_decrease': 0.0,\n",
       "  'decisiontreeclassifier__min_impurity_split': None,\n",
       "  'decisiontreeclassifier__min_samples_leaf': 1,\n",
       "  'decisiontreeclassifier__min_samples_split': 5,\n",
       "  'decisiontreeclassifier__min_weight_fraction_leaf': 0.0,\n",
       "  'decisiontreeclassifier__random_state': 2021,\n",
       "  'decisiontreeclassifier__splitter': 'best'}}"
      ]
     },
     "execution_count": 95,
     "metadata": {},
     "output_type": "execute_result"
    }
   ],
   "source": [
    "tuned_models"
   ]
  },
  {
   "cell_type": "markdown",
   "id": "4b7a6a19",
   "metadata": {},
   "source": [
    "## Logistic Regression with Best Parameters"
   ]
  },
  {
   "cell_type": "code",
   "execution_count": 96,
   "id": "51a3f400",
   "metadata": {},
   "outputs": [],
   "source": [
    "lr_best_pipe = make_pipeline(transformer, StandardScaler(with_mean = False), \n",
    "                             SMOTE(), LR(C=0.1, max_iter=500, random_state=2021, solver='saga'))"
   ]
  },
  {
   "cell_type": "code",
   "execution_count": 97,
   "id": "361b5205",
   "metadata": {},
   "outputs": [
    {
     "data": {
      "text/plain": [
       "0.7330037082818294"
      ]
     },
     "execution_count": 97,
     "metadata": {},
     "output_type": "execute_result"
    }
   ],
   "source": [
    "lr_best_pipe.fit(x_train, y_train)\n",
    "lr_best_pipe.score(x_test, y_test)"
   ]
  },
  {
   "cell_type": "code",
   "execution_count": 98,
   "id": "e6f26293",
   "metadata": {},
   "outputs": [
    {
     "name": "stdout",
     "output_type": "stream",
     "text": [
      "Average Accuracy Score: 0.7341355523835006\n",
      "Average Recall Score: 0.7120568948312856\n",
      "Average Precision Score: 0.516926688033765\n",
      "Average F1 Score: 0.5988808121837055\n"
     ]
    }
   ],
   "source": [
    "history.report(lr_best_pipe,x_train, y_train, 'Logistic Regression - Best Params', \n",
    "               'Logistic Regression with GridSearched Parameters')"
   ]
  },
  {
   "cell_type": "markdown",
   "id": "cd8d6dc8",
   "metadata": {},
   "source": [
    "* **Predicted Values**"
   ]
  },
  {
   "cell_type": "code",
   "execution_count": 99,
   "id": "189e0f46",
   "metadata": {},
   "outputs": [],
   "source": [
    "train_preds = lr_best_pipe.predict(x_train)\n",
    "test_preds = lr_best_pipe.predict(x_test)"
   ]
  },
  {
   "cell_type": "markdown",
   "id": "3c3ac173",
   "metadata": {},
   "source": [
    "* **Evaluation Metrics**"
   ]
  },
  {
   "cell_type": "code",
   "execution_count": 100,
   "id": "9bca49d5",
   "metadata": {},
   "outputs": [
    {
     "name": "stdout",
     "output_type": "stream",
     "text": [
      "Precision Score: 0.5203389830508475\n",
      "Recall Score: 0.7253396337861784\n",
      "Accuracy Score: 0.7367727047964397\n",
      "F1 Score: 0.6059708857636319\n",
      "\n",
      "\n",
      "Precision Score: 0.5168897386870618\n",
      "Recall Score: 0.7157987643424537\n",
      "Accuracy Score: 0.7330037082818294\n",
      "F1 Score: 0.6002960769800149\n",
      "\n",
      "\n"
     ]
    }
   ],
   "source": [
    "mf.print_metrics(y_train,train_preds)\n",
    "mf.print_metrics(y_test,test_preds)"
   ]
  },
  {
   "cell_type": "markdown",
   "id": "f3412061",
   "metadata": {},
   "source": [
    "* **Confusion Matrix**"
   ]
  },
  {
   "cell_type": "code",
   "execution_count": 101,
   "id": "f4c367e3",
   "metadata": {
    "scrolled": false
   },
   "outputs": [
    {
     "data": {
      "text/plain": [
       "<Figure size 720x720 with 0 Axes>"
      ]
     },
     "metadata": {},
     "output_type": "display_data"
    },
    {
     "data": {
      "image/png": "[encoded data removed]",
      "text/plain": [
       "<Figure size 432x288 with 2 Axes>"
      ]
     },
     "metadata": {},
     "output_type": "display_data"
    }
   ],
   "source": [
    "mf.confusion_mtx(lr_best_pipe, x_test, y_test)"
   ]
  },
  {
   "cell_type": "markdown",
   "id": "1b96883b",
   "metadata": {},
   "source": [
    "## KNN with Best Parameters"
   ]
  },
  {
   "cell_type": "code",
   "execution_count": 102,
   "id": "0181e405",
   "metadata": {},
   "outputs": [],
   "source": [
    "knn_best_pipe = make_pipeline(transformer, StandardScaler(with_mean = False), \n",
    "                             SMOTE(), KNN(metric='manhattan', n_neighbors=2))"
   ]
  },
  {
   "cell_type": "code",
   "execution_count": 103,
   "id": "83b356af",
   "metadata": {},
   "outputs": [
    {
     "data": {
      "text/plain": [
       "0.6974042027194067"
      ]
     },
     "execution_count": 103,
     "metadata": {},
     "output_type": "execute_result"
    }
   ],
   "source": [
    "knn_best_pipe.fit(x_train, y_train)\n",
    "knn_best_pipe.score(x_test, y_test)"
   ]
  },
  {
   "cell_type": "code",
   "execution_count": 104,
   "id": "081344d6",
   "metadata": {},
   "outputs": [
    {
     "name": "stdout",
     "output_type": "stream",
     "text": [
      "Average Accuracy Score: 0.695402293386718\n",
      "Average Recall Score: 0.26443226486537325\n",
      "Average Precision Score: 0.4253517571489341\n",
      "Average F1 Score: 0.3259991630419006\n"
     ]
    }
   ],
   "source": [
    "history.report(knn_best_pipe,x_train, y_train, 'KNN - Best Parameters', \n",
    "               'KNN with GridSearched Parameters')"
   ]
  },
  {
   "cell_type": "markdown",
   "id": "7a832659",
   "metadata": {},
   "source": [
    "* **Predicted Values**"
   ]
  },
  {
   "cell_type": "code",
   "execution_count": 105,
   "id": "a0abc129",
   "metadata": {},
   "outputs": [],
   "source": [
    "train_preds = knn_best_pipe.predict(x_train)\n",
    "test_preds = knn_best_pipe.predict(x_test)"
   ]
  },
  {
   "cell_type": "markdown",
   "id": "7d07d396",
   "metadata": {},
   "source": [
    "* **Evaluation Metrics**"
   ]
  },
  {
   "cell_type": "code",
   "execution_count": 106,
   "id": "42b0021f",
   "metadata": {},
   "outputs": [
    {
     "name": "stdout",
     "output_type": "stream",
     "text": [
      "Precision Score: 1.0\n",
      "Recall Score: 0.8021264028352038\n",
      "Accuracy Score: 0.9447832536673809\n",
      "F1 Score: 0.890199934447722\n",
      "\n",
      "\n",
      "Precision Score: 0.437414030261348\n",
      "Recall Score: 0.28067078552515445\n",
      "Accuracy Score: 0.6974042027194067\n",
      "F1 Score: 0.3419354838709677\n",
      "\n",
      "\n"
     ]
    }
   ],
   "source": [
    "mf.print_metrics(y_train,train_preds)\n",
    "mf.print_metrics(y_test,test_preds)"
   ]
  },
  {
   "cell_type": "markdown",
   "id": "e061b9c1",
   "metadata": {},
   "source": [
    "* **Confusion Matrix**"
   ]
  },
  {
   "cell_type": "code",
   "execution_count": 107,
   "id": "1f4cdf1c",
   "metadata": {
    "scrolled": true
   },
   "outputs": [
    {
     "data": {
      "text/plain": [
       "<Figure size 720x720 with 0 Axes>"
      ]
     },
     "metadata": {},
     "output_type": "display_data"
    },
    {
     "data": {
      "image/png": "[encoded data removed]",
      "text/plain": [
       "<Figure size 432x288 with 2 Axes>"
      ]
     },
     "metadata": {},
     "output_type": "display_data"
    }
   ],
   "source": [
    "mf.confusion_mtx(knn_best_pipe, x_test, y_test)"
   ]
  },
  {
   "cell_type": "markdown",
   "id": "07db6ddc",
   "metadata": {},
   "source": [
    "## Decision Tree with Best Parameters"
   ]
  },
  {
   "cell_type": "code",
   "execution_count": 108,
   "id": "8b9804d9",
   "metadata": {},
   "outputs": [],
   "source": [
    "dt_best_pipe = make_pipeline(transformer, StandardScaler(with_mean = False), \n",
    "                             SMOTE(), DT(max_depth=7, min_samples_split=10, random_state=2021))"
   ]
  },
  {
   "cell_type": "code",
   "execution_count": 109,
   "id": "5b9b5fe7",
   "metadata": {},
   "outputs": [
    {
     "data": {
      "text/plain": [
       "0.7426452410383189"
      ]
     },
     "execution_count": 109,
     "metadata": {},
     "output_type": "execute_result"
    }
   ],
   "source": [
    "dt_best_pipe.fit(x_train, y_train)\n",
    "dt_best_pipe.score(x_test, y_test)"
   ]
  },
  {
   "cell_type": "code",
   "execution_count": 110,
   "id": "d7a865b3",
   "metadata": {},
   "outputs": [
    {
     "name": "stdout",
     "output_type": "stream",
     "text": [
      "Average Accuracy Score: 0.7435289172351692\n",
      "Average Recall Score: 0.6525426335865364\n",
      "Average Precision Score: 0.5345121938195129\n",
      "Average F1 Score: 0.5867686326153023\n"
     ]
    }
   ],
   "source": [
    "history.report(dt_best_pipe,x_train, y_train, 'DT - Best Parameters', \n",
    "               'DT with GridSearched Parameters')"
   ]
  },
  {
   "cell_type": "markdown",
   "id": "7422a5cd",
   "metadata": {},
   "source": [
    "* **Predicted Values**"
   ]
  },
  {
   "cell_type": "code",
   "execution_count": 111,
   "id": "076f5751",
   "metadata": {},
   "outputs": [],
   "source": [
    "train_preds = dt_best_pipe.predict(x_train)\n",
    "test_preds = dt_best_pipe.predict(x_test)"
   ]
  },
  {
   "cell_type": "markdown",
   "id": "5bc3419d",
   "metadata": {},
   "source": [
    "* **Evaluation Metrics**"
   ]
  },
  {
   "cell_type": "code",
   "execution_count": 112,
   "id": "e7d8c2f3",
   "metadata": {},
   "outputs": [
    {
     "name": "stdout",
     "output_type": "stream",
     "text": [
      "Precision Score: 0.568969696969697\n",
      "Recall Score: 0.6931482575310101\n",
      "Accuracy Score: 0.7678424262403165\n",
      "F1 Score: 0.6249500732259353\n",
      "\n",
      "\n",
      "Precision Score: 0.5338733431516937\n",
      "Recall Score: 0.6398940864960282\n",
      "Accuracy Score: 0.7426452410383189\n",
      "F1 Score: 0.5820955439582497\n",
      "\n",
      "\n"
     ]
    }
   ],
   "source": [
    "mf.print_metrics(y_train,train_preds)\n",
    "mf.print_metrics(y_test,test_preds)"
   ]
  },
  {
   "cell_type": "markdown",
   "id": "8b20096c",
   "metadata": {},
   "source": [
    "* **Confusion Matrix**"
   ]
  },
  {
   "cell_type": "code",
   "execution_count": 113,
   "id": "8198db25",
   "metadata": {
    "scrolled": true
   },
   "outputs": [
    {
     "data": {
      "text/plain": [
       "<Figure size 720x720 with 0 Axes>"
      ]
     },
     "metadata": {},
     "output_type": "display_data"
    },
    {
     "data": {
      "image/png": "[encoded data removed]",
      "text/plain": [
       "<Figure size 432x288 with 2 Axes>"
      ]
     },
     "metadata": {},
     "output_type": "display_data"
    }
   ],
   "source": [
    "mf.confusion_mtx(dt_best_pipe, x_test, y_test)"
   ]
  },
  {
   "cell_type": "markdown",
   "id": "5d7ae160",
   "metadata": {},
   "source": [
    "### Results:\n",
    "\n",
    "* Logistic Regression showed best results with grid serached parameters.\n",
    "* The KNN and Decision Tree are overfitting training data"
   ]
  },
  {
   "cell_type": "markdown",
   "id": "3934317d",
   "metadata": {},
   "source": [
    "## Recursive Feature Selection for LR"
   ]
  },
  {
   "cell_type": "code",
   "execution_count": 114,
   "id": "9a581bd9",
   "metadata": {},
   "outputs": [],
   "source": [
    "from sklearn.feature_selection import RFE"
   ]
  },
  {
   "cell_type": "code",
   "execution_count": 115,
   "id": "1ca938c0",
   "metadata": {},
   "outputs": [],
   "source": [
    "lr_pipe_imp = make_pipeline(transformer, StandardScaler(with_mean = False), \n",
    "                            SMOTE(), RFE(estimator=LR(C=0.01, random_state=2021, max_iter = 5000), \n",
    "                                         n_features_to_select=22),\n",
    "                            LR(C=0.01, random_state=2021, max_iter = 5000))"
   ]
  },
  {
   "cell_type": "code",
   "execution_count": 116,
   "id": "8673ec6d",
   "metadata": {},
   "outputs": [
    {
     "name": "stdout",
     "output_type": "stream",
     "text": [
      "Average Accuracy Score: 0.7328168482298439\n",
      "Average Recall Score: 0.7100025596528111\n",
      "Average Precision Score: 0.5151542388044639\n",
      "Average F1 Score: 0.5969891310883997\n"
     ]
    }
   ],
   "source": [
    "lr_pipe_imp.fit(x_train, y_train)\n",
    "\n",
    "history.report(lr_pipe_imp,x_train, y_train, 'Linear Regression RFE Features', \n",
    "               'Linear Regression with RFE Features')"
   ]
  },
  {
   "cell_type": "code",
   "execution_count": 117,
   "id": "a6a0e68f",
   "metadata": {},
   "outputs": [],
   "source": [
    "train_preds = lr_pipe_imp.predict(x_train)\n",
    "test_preds = lr_pipe_imp.predict(x_test)"
   ]
  },
  {
   "cell_type": "code",
   "execution_count": 118,
   "id": "2d1470cf",
   "metadata": {},
   "outputs": [
    {
     "name": "stdout",
     "output_type": "stream",
     "text": [
      "Precision Score: 0.5214868929952728\n",
      "Recall Score: 0.716774955699941\n",
      "Accuracy Score: 0.7374320092302621\n",
      "F1 Score: 0.6037313432835821\n",
      "\n",
      "\n",
      "Precision Score: 0.5203883495145631\n",
      "Recall Score: 0.7096204766107679\n",
      "Accuracy Score: 0.7354758961681088\n",
      "F1 Score: 0.6004480955937267\n",
      "\n",
      "\n"
     ]
    }
   ],
   "source": [
    "mf.print_metrics(y_train,train_preds)\n",
    "mf.print_metrics(y_test,test_preds)"
   ]
  },
  {
   "cell_type": "code",
   "execution_count": 119,
   "id": "e5a4114a",
   "metadata": {
    "scrolled": true
   },
   "outputs": [
    {
     "data": {
      "text/plain": [
       "<Figure size 720x720 with 0 Axes>"
      ]
     },
     "metadata": {},
     "output_type": "display_data"
    },
    {
     "data": {
      "image/png": "[encoded data removed]",
      "text/plain": [
       "<Figure size 432x288 with 2 Axes>"
      ]
     },
     "metadata": {},
     "output_type": "display_data"
    }
   ],
   "source": [
    "mf.confusion_mtx(lr_pipe_imp, x_test, y_test)"
   ]
  },
  {
   "cell_type": "code",
   "execution_count": 120,
   "id": "345288d5",
   "metadata": {},
   "outputs": [
    {
     "data": {
      "text/html": [
       "<div>\n",
       "<style scoped>\n",
       "    .dataframe tbody tr th:only-of-type {\n",
       "        vertical-align: middle;\n",
       "    }\n",
       "\n",
       "    .dataframe tbody tr th {\n",
       "        vertical-align: top;\n",
       "    }\n",
       "\n",
       "    .dataframe thead th {\n",
       "        text-align: right;\n",
       "    }\n",
       "</style>\n",
       "<table border=\"1\" class=\"dataframe\">\n",
       "  <thead>\n",
       "    <tr style=\"text-align: right;\">\n",
       "      <th></th>\n",
       "      <th>Name</th>\n",
       "      <th>Accuracy_Score</th>\n",
       "      <th>Recall_Score</th>\n",
       "      <th>Precision_Score</th>\n",
       "      <th>F1_Score</th>\n",
       "      <th>Notes</th>\n",
       "    </tr>\n",
       "  </thead>\n",
       "  <tbody>\n",
       "    <tr>\n",
       "      <th>0</th>\n",
       "      <td>KNN - Best Parameters</td>\n",
       "      <td>0.695402</td>\n",
       "      <td>0.264432</td>\n",
       "      <td>0.425352</td>\n",
       "      <td>0.325999</td>\n",
       "      <td>KNN with GridSearched Parameters</td>\n",
       "    </tr>\n",
       "    <tr>\n",
       "      <th>1</th>\n",
       "      <td>Logistic Regression</td>\n",
       "      <td>0.780453</td>\n",
       "      <td>0.398375</td>\n",
       "      <td>0.681953</td>\n",
       "      <td>0.502491</td>\n",
       "      <td>Regression with All Features and Imbalanced Data</td>\n",
       "    </tr>\n",
       "    <tr>\n",
       "      <th>2</th>\n",
       "      <td>XGBoost - Defaults</td>\n",
       "      <td>0.795533</td>\n",
       "      <td>0.532707</td>\n",
       "      <td>0.666767</td>\n",
       "      <td>0.591976</td>\n",
       "      <td>XGBoost with All Features</td>\n",
       "    </tr>\n",
       "    <tr>\n",
       "      <th>3</th>\n",
       "      <td>Decision Tree - Defaults</td>\n",
       "      <td>0.704635</td>\n",
       "      <td>0.551932</td>\n",
       "      <td>0.475420</td>\n",
       "      <td>0.510590</td>\n",
       "      <td>Decision Tree with All Features</td>\n",
       "    </tr>\n",
       "    <tr>\n",
       "      <th>4</th>\n",
       "      <td>Gradient Boost - Depth 5</td>\n",
       "      <td>0.793061</td>\n",
       "      <td>0.578311</td>\n",
       "      <td>0.643198</td>\n",
       "      <td>0.608766</td>\n",
       "      <td>Gradient Boost with All Features and Depth 5</td>\n",
       "    </tr>\n",
       "    <tr>\n",
       "      <th>5</th>\n",
       "      <td>KNN - Defaults</td>\n",
       "      <td>0.600871</td>\n",
       "      <td>0.581639</td>\n",
       "      <td>0.364919</td>\n",
       "      <td>0.448396</td>\n",
       "      <td>KNN with All Features</td>\n",
       "    </tr>\n",
       "    <tr>\n",
       "      <th>6</th>\n",
       "      <td>Decision Tree - Depth 5</td>\n",
       "      <td>0.726223</td>\n",
       "      <td>0.650531</td>\n",
       "      <td>0.511413</td>\n",
       "      <td>0.569104</td>\n",
       "      <td>Decision Tree with Max Depth of 5</td>\n",
       "    </tr>\n",
       "    <tr>\n",
       "      <th>7</th>\n",
       "      <td>DT - Best Parameters</td>\n",
       "      <td>0.743529</td>\n",
       "      <td>0.652543</td>\n",
       "      <td>0.534512</td>\n",
       "      <td>0.586769</td>\n",
       "      <td>DT with GridSearched Parameters</td>\n",
       "    </tr>\n",
       "    <tr>\n",
       "      <th>8</th>\n",
       "      <td>Random Forest - Depth 5</td>\n",
       "      <td>0.735207</td>\n",
       "      <td>0.657050</td>\n",
       "      <td>0.520157</td>\n",
       "      <td>0.580559</td>\n",
       "      <td>Random Forest with All Features and Depth 5</td>\n",
       "    </tr>\n",
       "    <tr>\n",
       "      <th>9</th>\n",
       "      <td>Logistic Regression</td>\n",
       "      <td>0.733393</td>\n",
       "      <td>0.709372</td>\n",
       "      <td>0.516178</td>\n",
       "      <td>0.597443</td>\n",
       "      <td>Regression with All Features and Best C - Value</td>\n",
       "    </tr>\n",
       "    <tr>\n",
       "      <th>12</th>\n",
       "      <td>Linear Regression RFE Features</td>\n",
       "      <td>0.732817</td>\n",
       "      <td>0.710003</td>\n",
       "      <td>0.515154</td>\n",
       "      <td>0.596989</td>\n",
       "      <td>Linear Regression with RFE Features</td>\n",
       "    </tr>\n",
       "    <tr>\n",
       "      <th>10</th>\n",
       "      <td>Logistic Regression</td>\n",
       "      <td>0.733558</td>\n",
       "      <td>0.710594</td>\n",
       "      <td>0.516383</td>\n",
       "      <td>0.597964</td>\n",
       "      <td>Logistic Regression with Upsampled Data</td>\n",
       "    </tr>\n",
       "    <tr>\n",
       "      <th>11</th>\n",
       "      <td>Logistic Regression - Best Params</td>\n",
       "      <td>0.734136</td>\n",
       "      <td>0.712057</td>\n",
       "      <td>0.516927</td>\n",
       "      <td>0.598881</td>\n",
       "      <td>Logistic Regression with GridSearched Parameters</td>\n",
       "    </tr>\n",
       "  </tbody>\n",
       "</table>\n",
       "</div>"
      ],
      "text/plain": [
       "                                 Name  Accuracy_Score  Recall_Score  \\\n",
       "0               KNN - Best Parameters        0.695402      0.264432   \n",
       "1                 Logistic Regression        0.780453      0.398375   \n",
       "2                  XGBoost - Defaults        0.795533      0.532707   \n",
       "3            Decision Tree - Defaults        0.704635      0.551932   \n",
       "4            Gradient Boost - Depth 5        0.793061      0.578311   \n",
       "5                      KNN - Defaults        0.600871      0.581639   \n",
       "6             Decision Tree - Depth 5        0.726223      0.650531   \n",
       "7                DT - Best Parameters        0.743529      0.652543   \n",
       "8             Random Forest - Depth 5        0.735207      0.657050   \n",
       "9                 Logistic Regression        0.733393      0.709372   \n",
       "12     Linear Regression RFE Features        0.732817      0.710003   \n",
       "10                Logistic Regression        0.733558      0.710594   \n",
       "11  Logistic Regression - Best Params        0.734136      0.712057   \n",
       "\n",
       "    Precision_Score  F1_Score  \\\n",
       "0          0.425352  0.325999   \n",
       "1          0.681953  0.502491   \n",
       "2          0.666767  0.591976   \n",
       "3          0.475420  0.510590   \n",
       "4          0.643198  0.608766   \n",
       "5          0.364919  0.448396   \n",
       "6          0.511413  0.569104   \n",
       "7          0.534512  0.586769   \n",
       "8          0.520157  0.580559   \n",
       "9          0.516178  0.597443   \n",
       "12         0.515154  0.596989   \n",
       "10         0.516383  0.597964   \n",
       "11         0.516927  0.598881   \n",
       "\n",
       "                                               Notes  \n",
       "0                   KNN with GridSearched Parameters  \n",
       "1   Regression with All Features and Imbalanced Data  \n",
       "2                          XGBoost with All Features  \n",
       "3                    Decision Tree with All Features  \n",
       "4       Gradient Boost with All Features and Depth 5  \n",
       "5                              KNN with All Features  \n",
       "6                  Decision Tree with Max Depth of 5  \n",
       "7                    DT with GridSearched Parameters  \n",
       "8        Random Forest with All Features and Depth 5  \n",
       "9    Regression with All Features and Best C - Value  \n",
       "12               Linear Regression with RFE Features  \n",
       "10           Logistic Regression with Upsampled Data  \n",
       "11  Logistic Regression with GridSearched Parameters  "
      ]
     },
     "execution_count": 120,
     "metadata": {},
     "output_type": "execute_result"
    }
   ],
   "source": [
    "history.history"
   ]
  },
  {
   "cell_type": "markdown",
   "id": "648331f0",
   "metadata": {},
   "source": [
    "# Modeling Results"
   ]
  },
  {
   "cell_type": "markdown",
   "id": "484cfc4a",
   "metadata": {},
   "source": [
    "Based on the **Recall and F1** Scores, the **Logistic Regression Model** with Grid Searched parameters has performed the best - **Recall(0.71), F1(0.59).** The **confusion matrix** shows **lowest values for false negative** predictions - predicting pass, while student is failing. I will **test the model on holdout data.** "
   ]
  },
  {
   "cell_type": "markdown",
   "id": "8f917e4d",
   "metadata": {},
   "source": [
    "## Predicting on Holdout Data"
   ]
  },
  {
   "cell_type": "code",
   "execution_count": 121,
   "id": "a65173ff",
   "metadata": {},
   "outputs": [],
   "source": [
    "train_preds = lr_best_pipe.predict(x_train)\n",
    "hold_preds = lr_best_pipe.predict(x_hold)"
   ]
  },
  {
   "cell_type": "code",
   "execution_count": 122,
   "id": "bacd6535",
   "metadata": {},
   "outputs": [
    {
     "name": "stdout",
     "output_type": "stream",
     "text": [
      "Precision Score: 0.5203389830508475\n",
      "Recall Score: 0.7253396337861784\n",
      "Accuracy Score: 0.7367727047964397\n",
      "F1 Score: 0.6059708857636319\n",
      "\n",
      "\n",
      "Precision Score: 0.5081658291457286\n",
      "Recall Score: 0.7511606313834726\n",
      "Accuracy Score: 0.7401730531520395\n",
      "F1 Score: 0.606219557886849\n",
      "\n",
      "\n"
     ]
    }
   ],
   "source": [
    "mf.print_metrics(y_train,train_preds)\n",
    "mf.print_metrics(y_hold,hold_preds)"
   ]
  },
  {
   "cell_type": "code",
   "execution_count": 123,
   "id": "56b65bd1",
   "metadata": {
    "scrolled": true
   },
   "outputs": [
    {
     "data": {
      "text/plain": [
       "<Figure size 720x720 with 0 Axes>"
      ]
     },
     "metadata": {},
     "output_type": "display_data"
    },
    {
     "data": {
      "image/png": "[encoded data removed]",
      "text/plain": [
       "<Figure size 432x288 with 2 Axes>"
      ]
     },
     "metadata": {},
     "output_type": "display_data"
    }
   ],
   "source": [
    "mf.confusion_mtx(lr_best_pipe, x_hold, y_hold)\n"
   ]
  },
  {
   "cell_type": "markdown",
   "id": "a3c671c8",
   "metadata": {},
   "source": [
    "### Results:\n",
    "\n",
    "* Model showed better performance on holdout data than on test data. The value for false negatives on hold data is 0.25 based on confusion matrix.\n",
    "* The recall score of 0.75 indicates that 75% of the results were predicted truly as Fail, and 0.50 precision indicates that 50% of final results were correctly predicted as Pass."
   ]
  },
  {
   "cell_type": "code",
   "execution_count": 124,
   "id": "13f15343",
   "metadata": {
    "scrolled": true
   },
   "outputs": [
    {
     "data": {
      "text/plain": [
       "<Figure size 720x720 with 0 Axes>"
      ]
     },
     "metadata": {},
     "output_type": "display_data"
    },
    {
     "data": {
      "image/png": "[encoded data removed]",
      "text/plain": [
       "<Figure size 432x288 with 2 Axes>"
      ]
     },
     "metadata": {},
     "output_type": "display_data"
    }
   ],
   "source": [
    "plt.figure(figsize =(10,10))\n",
    "plot_confusion_matrix(lr_best_pipe, x_hold, y_hold,\n",
    "                     cmap=plt.cm.Blues, display_labels=\n",
    "                          ['Pass', 'Fail'])\n",
    "\n",
    "plt.xticks(horizontalalignment='right', fontsize='small')\n",
    "plt.show()"
   ]
  },
  {
   "cell_type": "code",
   "execution_count": null,
   "id": "c54bc937",
   "metadata": {},
   "outputs": [],
   "source": []
  },
  {
   "cell_type": "code",
   "execution_count": null,
   "id": "a9ba703d",
   "metadata": {},
   "outputs": [],
   "source": []
  }
 ],
 "metadata": {
  "kernelspec": {
   "display_name": "Python 3 (ipykernel)",
   "language": "python",
   "name": "python3"
  },
  "language_info": {
   "codemirror_mode": {
    "name": "ipython",
    "version": 3
   },
   "file_extension": ".py",
   "mimetype": "text/x-python",
   "name": "python",
   "nbconvert_exporter": "python",
   "pygments_lexer": "ipython3",
   "version": "3.9.7"
  }
 },
 "nbformat": 4,
 "nbformat_minor": 5
}
