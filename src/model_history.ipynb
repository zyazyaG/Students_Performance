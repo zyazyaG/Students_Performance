{
 "cells": [
  {
   "cell_type": "code",
   "execution_count": null,
   "id": "c6ca00b0",
   "metadata": {},
   "outputs": [],
   "source": [
    "import pandas as pd\n",
    "import numpy as np\n",
    "\n",
    "from sklearn.model_selection import train_test_split, cross_validate, KFold, GridSearchCV\n",
    "from sklearn.metrics import accuracy_score, f1_score, recall_score, precision_score, make_scorer\n",
    "\n",
    "\n",
    "\n",
    "\n",
    "class ModelHistory:\n",
    "    \n",
    "    def __init__(self, random_state=2021):\n",
    "        self.scorer = 'accuracy'\n",
    "        self.history = pd.DataFrame(columns=['Name', 'Accuracy_Score', \n",
    "                                             'Recall_Score', 'Precision_Score', 'F1' 'Notes'])\n",
    "        \n",
    "\n",
    "    def report(self, pipeline, X, y, name, notes='', cv=10,):\n",
    "        kf = KFold(n_splits=cv, random_state=2021, shuffle=True)\n",
    "        scores = cross_val_score(pipeline, X, y, \n",
    "                                 scoring=self.scorer, cv=kf)\n",
    "        \n",
    "        frame = pd.DataFrame([[name, self.scores['test_accuracy'].mean(),\n",
    "                               self.scores['test_precision'].mean(),\n",
    "                               self.scores['test_recall'].mean(),\n",
    "                               self.scores['test_f1'].mean(), notes]],\n",
    "                             columns=['Name', 'Accuracy_Score', 'Precision_Score', 'Recall_Score',\n",
    "                                      'F1_Score', 'Notes'])\n",
    "        \n",
    "        self.history = self.history.append(frame)\n",
    "        self.history = self.history.reset_index(drop=True)\n",
    "        self.history = self.history.sort_values('F1')\n",
    "        \n",
    "    "
   ]
  }
 ],
 "metadata": {
  "kernelspec": {
   "display_name": "Python 3 (ipykernel)",
   "language": "python",
   "name": "python3"
  },
  "language_info": {
   "codemirror_mode": {
    "name": "ipython",
    "version": 3
   },
   "file_extension": ".py",
   "mimetype": "text/x-python",
   "name": "python",
   "nbconvert_exporter": "python",
   "pygments_lexer": "ipython3",
   "version": "3.9.7"
  }
 },
 "nbformat": 4,
 "nbformat_minor": 5
}
